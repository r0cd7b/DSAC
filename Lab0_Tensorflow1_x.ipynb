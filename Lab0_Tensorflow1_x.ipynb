{
  "nbformat": 4,
  "nbformat_minor": 0,
  "metadata": {
    "colab": {
      "name": "Lab0_Tensorflow1.x",
      "provenance": [],
      "collapsed_sections": [],
      "toc_visible": true,
      "authorship_tag": "ABX9TyM9W/P6ePZ/FRyhcmazzbiZ",
      "include_colab_link": true
    },
    "kernelspec": {
      "name": "python3",
      "display_name": "Python 3"
    }
  },
  "cells": [
    {
      "cell_type": "markdown",
      "metadata": {
        "id": "view-in-github",
        "colab_type": "text"
      },
      "source": [
        "<a href=\"https://colab.research.google.com/github/r0cd7b/DSAC/blob/master/Lab0_Tensorflow1_x.ipynb\" target=\"_parent\"><img src=\"https://colab.research.google.com/assets/colab-badge.svg\" alt=\"Open In Colab\"/></a>"
      ]
    },
    {
      "cell_type": "markdown",
      "metadata": {
        "id": "fh4ns8k6kV8r"
      },
      "source": [
        "Tensorflow 1.x Lab"
      ]
    },
    {
      "cell_type": "code",
      "metadata": {
        "id": "S-WPw3aojkoG"
      },
      "source": [
        "import numpy as np\n",
        "import matplotlib.pyplot as plt\n",
        "%matplotlib inline"
      ],
      "execution_count": 1,
      "outputs": []
    },
    {
      "cell_type": "code",
      "metadata": {
        "id": "c6HMLc7_kxBC"
      },
      "source": [
        "import tensorflow.compat.v1 as tf\n",
        "tf.compat.v1.disable_eager_execution()"
      ],
      "execution_count": 2,
      "outputs": []
    },
    {
      "cell_type": "markdown",
      "metadata": {
        "id": "36COy_q1mCCv"
      },
      "source": [
        "## Basic exercise"
      ]
    },
    {
      "cell_type": "code",
      "metadata": {
        "id": "5EyaVIluoGX4",
        "outputId": "44d2f056-1af1-47af-9838-13524a6fa6fb",
        "colab": {
          "base_uri": "https://localhost:8080/"
        }
      },
      "source": [
        "a, b, c = 1., 2., 3.\n",
        "a, b, c, type(a)"
      ],
      "execution_count": 3,
      "outputs": [
        {
          "output_type": "execute_result",
          "data": {
            "text/plain": [
              "(1.0, 2.0, 3.0, float)"
            ]
          },
          "metadata": {
            "tags": []
          },
          "execution_count": 3
        }
      ]
    },
    {
      "cell_type": "code",
      "metadata": {
        "id": "V5clgVPUod1I",
        "outputId": "1f153390-cb25-4a16-86f7-0e02b16e609f",
        "colab": {
          "base_uri": "https://localhost:8080/"
        }
      },
      "source": [
        "x0 = tf.constant(1.)\n",
        "x1 = tf.constant([1., 2.])\n",
        "x2 = tf.constant([[1, 2, 3], [1, 2, 3], [1, 2, 3]], dtype='float32')\n",
        "x3 = tf.constant([\n",
        "                  [[1, 2, 3, 4], [1, 2, 3, 4], [1, 2, 3, 4], [1, 2, 3, 4]],\n",
        "                  [[1, 2, 3, 4], [1, 2, 3, 4], [1, 2, 3, 4], [1, 2, 3, 4]],\n",
        "                  [[1, 2, 3, 4], [1, 2, 3, 4], [1, 2, 3, 4], [1, 2, 3, 4]],\n",
        "                  [[1, 2, 3, 4], [1, 2, 3, 4], [1, 2, 3, 4], [1, 2, 3, 4]]\n",
        "                  ], dtype='float32')\n",
        "x0, x1, x2, x3"
      ],
      "execution_count": 4,
      "outputs": [
        {
          "output_type": "execute_result",
          "data": {
            "text/plain": [
              "(<tf.Tensor 'Const:0' shape=() dtype=float32>,\n",
              " <tf.Tensor 'Const_1:0' shape=(2,) dtype=float32>,\n",
              " <tf.Tensor 'Const_2:0' shape=(3, 3) dtype=float32>,\n",
              " <tf.Tensor 'Const_3:0' shape=(4, 4, 4) dtype=float32>)"
            ]
          },
          "metadata": {
            "tags": []
          },
          "execution_count": 4
        }
      ]
    },
    {
      "cell_type": "code",
      "metadata": {
        "id": "mFQjMJRFoyjf",
        "outputId": "b471fa29-e59a-4a58-d9b2-12763957388d",
        "colab": {
          "base_uri": "https://localhost:8080/"
        }
      },
      "source": [
        "x4 = tf.constant([1., 2., 3., 4.])\n",
        "x5 = tf.constant([5., 6., 7., 8.])\n",
        "result1 = tf.multiply(x4, x5)\n",
        "result2 = x4 * x5\n",
        "print(result1, result2)"
      ],
      "execution_count": 5,
      "outputs": [
        {
          "output_type": "stream",
          "text": [
            "Tensor(\"Mul:0\", shape=(4,), dtype=float32) Tensor(\"mul_1:0\", shape=(4,), dtype=float32)\n"
          ],
          "name": "stdout"
        }
      ]
    },
    {
      "cell_type": "code",
      "metadata": {
        "id": "aWk3nfiErvJ6",
        "outputId": "bc3d761b-2e53-482d-8b8a-fc2221031e5b",
        "colab": {
          "base_uri": "https://localhost:8080/"
        }
      },
      "source": [
        "sess = tf.Session()\n",
        "print(sess.run([result1, result2]))\n",
        "sess.close()"
      ],
      "execution_count": 6,
      "outputs": [
        {
          "output_type": "stream",
          "text": [
            "[array([ 5., 12., 21., 32.], dtype=float32), array([ 5., 12., 21., 32.], dtype=float32)]\n"
          ],
          "name": "stdout"
        }
      ]
    },
    {
      "cell_type": "code",
      "metadata": {
        "id": "XNKCVvB-_ELB",
        "outputId": "a45de63c-aae3-4f53-ea4b-b473891e3e5c",
        "colab": {
          "base_uri": "https://localhost:8080/"
        }
      },
      "source": [
        "with tf.Session() as sess:\n",
        "  output1 = sess.run([result1, result2])\n",
        "  output2 = [result1.eval(), result2.eval()]\n",
        "output1, output2"
      ],
      "execution_count": 7,
      "outputs": [
        {
          "output_type": "execute_result",
          "data": {
            "text/plain": [
              "([array([ 5., 12., 21., 32.], dtype=float32),\n",
              "  array([ 5., 12., 21., 32.], dtype=float32)],\n",
              " [array([ 5., 12., 21., 32.], dtype=float32),\n",
              "  array([ 5., 12., 21., 32.], dtype=float32)])"
            ]
          },
          "metadata": {
            "tags": []
          },
          "execution_count": 7
        }
      ]
    },
    {
      "cell_type": "code",
      "metadata": {
        "id": "ZAq1dyOM_msY"
      },
      "source": [
        "# veriables\n",
        "v1 = tf.Variable(\"Hello\")\n",
        "v2 = tf.Variable(450)\n",
        "v3_1 = tf.random.normal([2])\n",
        "v3_2 = tf.random.normal((2,))"
      ],
      "execution_count": 8,
      "outputs": []
    },
    {
      "cell_type": "code",
      "metadata": {
        "id": "_bMQJeZpBbu_",
        "outputId": "d7cf3791-9b23-4718-b73e-c9ac5cd2cd98",
        "colab": {
          "base_uri": "https://localhost:8080/"
        }
      },
      "source": [
        "v1, v2, v3_1, v3_2"
      ],
      "execution_count": 9,
      "outputs": [
        {
          "output_type": "execute_result",
          "data": {
            "text/plain": [
              "(<tf.Variable 'Variable:0' shape=() dtype=string>,\n",
              " <tf.Variable 'Variable_1:0' shape=() dtype=int32>,\n",
              " <tf.Tensor 'random_normal:0' shape=(2,) dtype=float32>,\n",
              " <tf.Tensor 'random_normal_1:0' shape=(2,) dtype=float32>)"
            ]
          },
          "metadata": {
            "tags": []
          },
          "execution_count": 9
        }
      ]
    },
    {
      "cell_type": "code",
      "metadata": {
        "id": "3lJUoRmtClL7"
      },
      "source": [
        "data1 = tf.Variable([1, 2])\n",
        "data2 = tf.Variable([1., 2.])\n",
        "data3 = tf.Variable([[False, True], [False, False]], dtype=bool)\n",
        "data4 = tf.Variable([[1, 2], [3, 4], [5, 6], [7, 8]], tf.int32)"
      ],
      "execution_count": 10,
      "outputs": []
    },
    {
      "cell_type": "code",
      "metadata": {
        "id": "LQuRHrKyDstb",
        "outputId": "f62f02d2-82ba-4a33-f7eb-50b3f1cf35dc",
        "colab": {
          "base_uri": "https://localhost:8080/"
        }
      },
      "source": [
        "data1, data2, data3, data4"
      ],
      "execution_count": 11,
      "outputs": [
        {
          "output_type": "execute_result",
          "data": {
            "text/plain": [
              "(<tf.Variable 'Variable_2:0' shape=(2,) dtype=int32>,\n",
              " <tf.Variable 'Variable_3:0' shape=(2,) dtype=float32>,\n",
              " <tf.Variable 'Variable_4:0' shape=(2, 2) dtype=bool>,\n",
              " <tf.Variable 'Variable_5:0' shape=(4, 2) dtype=int32>)"
            ]
          },
          "metadata": {
            "tags": []
          },
          "execution_count": 11
        }
      ]
    },
    {
      "cell_type": "code",
      "metadata": {
        "id": "fjmxg-vGED2M",
        "outputId": "a4e91e1a-4c5b-4661-b454-f40999f7670c",
        "colab": {
          "base_uri": "https://localhost:8080/"
        }
      },
      "source": [
        "data4.shape"
      ],
      "execution_count": 12,
      "outputs": [
        {
          "output_type": "execute_result",
          "data": {
            "text/plain": [
              "TensorShape([4, 2])"
            ]
          },
          "metadata": {
            "tags": []
          },
          "execution_count": 12
        }
      ]
    },
    {
      "cell_type": "code",
      "metadata": {
        "id": "TO-_yrD3Em6U",
        "outputId": "bc920ece-80ce-45a3-bc10-03a23d0ba117",
        "colab": {
          "base_uri": "https://localhost:8080/"
        }
      },
      "source": [
        "with tf.Session() as sess:\n",
        "  r = tf.rank(data4)\n",
        "  s = sess.run(r)\n",
        "  print(s)"
      ],
      "execution_count": 13,
      "outputs": [
        {
          "output_type": "stream",
          "text": [
            "2\n"
          ],
          "name": "stdout"
        }
      ]
    },
    {
      "cell_type": "code",
      "metadata": {
        "id": "ndjiHfdbE0Yq",
        "outputId": "55063ec1-5ada-4765-ae3e-e3d69b6a3bc7",
        "colab": {
          "base_uri": "https://localhost:8080/"
        }
      },
      "source": [
        "t1 = tf.ones([3, 4, 5])\n",
        "t2 = tf.reshape(t1, [2, 3, 5, 2])\n",
        "t1, t2"
      ],
      "execution_count": 14,
      "outputs": [
        {
          "output_type": "execute_result",
          "data": {
            "text/plain": [
              "(<tf.Tensor 'ones:0' shape=(3, 4, 5) dtype=float32>,\n",
              " <tf.Tensor 'Reshape:0' shape=(2, 3, 5, 2) dtype=float32>)"
            ]
          },
          "metadata": {
            "tags": []
          },
          "execution_count": 14
        }
      ]
    },
    {
      "cell_type": "code",
      "metadata": {
        "id": "YwIeYrfgF6HY",
        "outputId": "af6f572a-9818-4eba-bad8-47812f12e3f9",
        "colab": {
          "base_uri": "https://localhost:8080/"
        }
      },
      "source": [
        "with tf.Session() as sess:\n",
        "  s = sess.run([t1, t2]) \n",
        "  print(s)"
      ],
      "execution_count": 15,
      "outputs": [
        {
          "output_type": "stream",
          "text": [
            "[array([[[1., 1., 1., 1., 1.],\n",
            "        [1., 1., 1., 1., 1.],\n",
            "        [1., 1., 1., 1., 1.],\n",
            "        [1., 1., 1., 1., 1.]],\n",
            "\n",
            "       [[1., 1., 1., 1., 1.],\n",
            "        [1., 1., 1., 1., 1.],\n",
            "        [1., 1., 1., 1., 1.],\n",
            "        [1., 1., 1., 1., 1.]],\n",
            "\n",
            "       [[1., 1., 1., 1., 1.],\n",
            "        [1., 1., 1., 1., 1.],\n",
            "        [1., 1., 1., 1., 1.],\n",
            "        [1., 1., 1., 1., 1.]]], dtype=float32), array([[[[1., 1.],\n",
            "         [1., 1.],\n",
            "         [1., 1.],\n",
            "         [1., 1.],\n",
            "         [1., 1.]],\n",
            "\n",
            "        [[1., 1.],\n",
            "         [1., 1.],\n",
            "         [1., 1.],\n",
            "         [1., 1.],\n",
            "         [1., 1.]],\n",
            "\n",
            "        [[1., 1.],\n",
            "         [1., 1.],\n",
            "         [1., 1.],\n",
            "         [1., 1.],\n",
            "         [1., 1.]]],\n",
            "\n",
            "\n",
            "       [[[1., 1.],\n",
            "         [1., 1.],\n",
            "         [1., 1.],\n",
            "         [1., 1.],\n",
            "         [1., 1.]],\n",
            "\n",
            "        [[1., 1.],\n",
            "         [1., 1.],\n",
            "         [1., 1.],\n",
            "         [1., 1.],\n",
            "         [1., 1.]],\n",
            "\n",
            "        [[1., 1.],\n",
            "         [1., 1.],\n",
            "         [1., 1.],\n",
            "         [1., 1.],\n",
            "         [1., 1.]]]], dtype=float32)]\n"
          ],
          "name": "stdout"
        }
      ]
    },
    {
      "cell_type": "markdown",
      "metadata": {
        "id": "aCgFtlIRGEw8"
      },
      "source": [
        "## linear regression using GD"
      ]
    },
    {
      "cell_type": "code",
      "metadata": {
        "id": "ldszcdHsHRXp",
        "outputId": "d6f63366-9500-4be3-ffee-3df091a5ca07",
        "colab": {
          "base_uri": "https://localhost:8080/",
          "height": 283
        }
      },
      "source": [
        "n = 100\n",
        "x = np.random.randn(n)\n",
        "y = 0.7 * x + 0.7  # w = 0.7, b = 0.7\n",
        "y = y + np.random.randn(n) * 0.5\n",
        "\n",
        "plt.scatter(x, y)"
      ],
      "execution_count": 16,
      "outputs": [
        {
          "output_type": "execute_result",
          "data": {
            "text/plain": [
              "<matplotlib.collections.PathCollection at 0x7f3826a62240>"
            ]
          },
          "metadata": {
            "tags": []
          },
          "execution_count": 16
        },
        {
          "output_type": "display_data",
          "data": {
            "image/png": "[encoded data removed]",
            "text/plain": [
              "<Figure size 432x288 with 1 Axes>"
            ]
          },
          "metadata": {
            "tags": [],
            "needs_background": "light"
          }
        }
      ]
    },
    {
      "cell_type": "markdown",
      "metadata": {
        "id": "tdDJlzUiH8eZ"
      },
      "source": [
        "# numpy"
      ]
    },
    {
      "cell_type": "code",
      "metadata": {
        "id": "FUbyXSUvHvzv",
        "outputId": "47a97548-6024-4b0f-f7ca-577414b78148",
        "colab": {
          "base_uri": "https://localhost:8080/",
          "height": 303
        }
      },
      "source": [
        "w, b = np.random.randn(), np.random.randn()\n",
        "lr = 0.02\n",
        "n_epoch = 300\n",
        "lossHistory = []\n",
        "\n",
        "for i in range(n_epoch):\n",
        "  y_pred = w * x + b\n",
        "  error = ((y_pred - y) ** 2).mean()\n",
        "\n",
        "  w = w - lr * ((y_pred - y) * x).mean()\n",
        "  b = b - lr * (y_pred - y).mean()\n",
        "\n",
        "  lossHistory.append(error)\n",
        "\n",
        "print(w, b)\n",
        "plt.plot(lossHistory)"
      ],
      "execution_count": 17,
      "outputs": [
        {
          "output_type": "stream",
          "text": [
            "0.7119584869803265 0.6778361546497215\n"
          ],
          "name": "stdout"
        },
        {
          "output_type": "execute_result",
          "data": {
            "text/plain": [
              "[<matplotlib.lines.Line2D at 0x7f382652f320>]"
            ]
          },
          "metadata": {
            "tags": []
          },
          "execution_count": 17
        },
        {
          "output_type": "display_data",
          "data": {
            "image/png": "[encoded data removed]",
            "text/plain": [
              "<Figure size 432x288 with 1 Axes>"
            ]
          },
          "metadata": {
            "tags": [],
            "needs_background": "light"
          }
        }
      ]
    },
    {
      "cell_type": "markdown",
      "metadata": {
        "id": "qrdvvXp6JDA2"
      },
      "source": [
        "# Tensorflow 1.x"
      ]
    },
    {
      "cell_type": "code",
      "metadata": {
        "id": "MygbX5C3JiCa",
        "outputId": "5abcdaa8-e315-40ec-ba1c-51c25d6ae263",
        "colab": {
          "base_uri": "https://localhost:8080/",
          "height": 302
        }
      },
      "source": [
        "import tensorflow.compat.v1 as tf\n",
        "tf.compat.v1.disable_eager_execution()\n",
        "\n",
        "X = tf.placeholder(\"float\")\n",
        "Y = tf.placeholder(\"float\")\n",
        "\n",
        "W = tf.Variable(5.0)\n",
        "B = tf.Variable(-1.0)\n",
        "\n",
        "# Graph\n",
        "Y_pred = W * X + B  # hyperthesis\n",
        "cost = tf.reduce_mean(tf.square(Y_pred - Y))\n",
        "\n",
        "learning_rate = 0.02\n",
        "W_grad = tf.reduce_mean((Y_pred - Y) * X)\n",
        "B_grad = tf.reduce_mean(Y_pred - Y)\n",
        "\n",
        "W_desc = W - learning_rate * W_grad\n",
        "B_desc = B - learning_rate * B_grad\n",
        "\n",
        "W_update = W.assign(W_desc)\n",
        "B_update = B.assign(B_desc)\n",
        "\n",
        "lossHistory = []\n",
        "\n",
        "with tf.Session() as sess:\n",
        "  sess.run(tf.global_variables_initializer())\n",
        "  for i in range(300):\n",
        "    sess.run([W_update, B_update], feed_dict={X: x, Y: y})\n",
        "    cost_val, W_val, B_val = sess.run([cost, W, B], feed_dict={X: x, Y: y})\n",
        "\n",
        "    lossHistory.append(cost_val)\n",
        "\n",
        "print(cost_val, W_val, B_val)\n",
        "plt.plot(lossHistory)"
      ],
      "execution_count": 18,
      "outputs": [
        {
          "output_type": "stream",
          "text": [
            "0.25341204 0.72159344 0.66380155\n"
          ],
          "name": "stdout"
        },
        {
          "output_type": "execute_result",
          "data": {
            "text/plain": [
              "[<matplotlib.lines.Line2D at 0x7f3830580630>]"
            ]
          },
          "metadata": {
            "tags": []
          },
          "execution_count": 18
        },
        {
          "output_type": "display_data",
          "data": {
            "image/png": "[encoded data removed]",
            "text/plain": [
              "<Figure size 432x288 with 1 Axes>"
            ]
          },
          "metadata": {
            "tags": [],
            "needs_background": "light"
          }
        }
      ]
    },
    {
      "cell_type": "code",
      "metadata": {
        "id": "aguVvoEUNVK2",
        "outputId": "4054aeba-7ab2-46d1-d417-48008a6c043e",
        "colab": {
          "base_uri": "https://localhost:8080/",
          "height": 302
        }
      },
      "source": [
        "import tensorflow.compat.v1 as tf\n",
        "tf.compat.v1.disable_eager_execution()\n",
        "\n",
        "n = 100\n",
        "x = np.random.randn(n)\n",
        "y = 0.7 * x + 0.7  # w = 0.7, b = 0.7\n",
        "y = y + np.random.randn(n) * 0.5\n",
        "\n",
        "X = tf.placeholder(\"float\")\n",
        "Y = tf.placeholder(\"float\")\n",
        "\n",
        "W = tf.Variable(5.0)\n",
        "B = tf.Variable(-1.0)\n",
        "\n",
        "# Graph\n",
        "Y_pred = W * X + B  # hyperthesis\n",
        "cost = tf.reduce_mean(tf.square(Y_pred - Y))\n",
        "\n",
        "optimizer = tf.train.GradientDescentOptimizer(learning_rate=0.01)\n",
        "train = optimizer.minimize(cost)\n",
        "\n",
        "lossHistory = []\n",
        "\n",
        "with tf.Session() as sess:\n",
        "  sess.run(tf.global_variables_initializer())\n",
        "  for i in range(300):\n",
        "    sess.run(train, feed_dict={X: x, Y: y})\n",
        "    cost_val, W_val, B_val = sess.run([cost, W, B], feed_dict={X: x, Y: y})\n",
        "    lossHistory.append(cost_val)\n",
        "\n",
        "print(cost_val, W_val, B_val)\n",
        "plt.plot(lossHistory)"
      ],
      "execution_count": 19,
      "outputs": [
        {
          "output_type": "stream",
          "text": [
            "0.24150541 0.7073261 0.713553\n"
          ],
          "name": "stdout"
        },
        {
          "output_type": "execute_result",
          "data": {
            "text/plain": [
              "[<matplotlib.lines.Line2D at 0x7f382642be80>]"
            ]
          },
          "metadata": {
            "tags": []
          },
          "execution_count": 19
        },
        {
          "output_type": "display_data",
          "data": {
            "image/png": "[encoded data removed]",
            "text/plain": [
              "<Figure size 432x288 with 1 Axes>"
            ]
          },
          "metadata": {
            "tags": [],
            "needs_background": "light"
          }
        }
      ]
    },
    {
      "cell_type": "code",
      "metadata": {
        "id": "yoTdH9NIVb_k",
        "outputId": "4847b710-a960-4bd2-b32b-ad9a42350da3",
        "colab": {
          "base_uri": "https://localhost:8080/",
          "height": 286
        }
      },
      "source": [
        "xx = np.linspace(-2, 3, 100)\n",
        "yy = W_val * xx + B_val\n",
        "plt.plot(xx, yy, c='r')\n",
        "plt.scatter(x, y)"
      ],
      "execution_count": 24,
      "outputs": [
        {
          "output_type": "execute_result",
          "data": {
            "text/plain": [
              "<matplotlib.collections.PathCollection at 0x7f381f018f60>"
            ]
          },
          "metadata": {
            "tags": []
          },
          "execution_count": 24
        },
        {
          "output_type": "display_data",
          "data": {
            "image/png": "[encoded data removed]",
            "text/plain": [
              "<Figure size 432x288 with 1 Axes>"
            ]
          },
          "metadata": {
            "tags": [],
            "needs_background": "light"
          }
        }
      ]
    },
    {
      "cell_type": "code",
      "metadata": {
        "id": "1sGOFdkWZkui"
      },
      "source": [
        ""
      ],
      "execution_count": null,
      "outputs": []
    }
  ]
}