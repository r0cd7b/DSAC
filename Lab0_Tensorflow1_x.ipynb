{
  "nbformat": 4,
  "nbformat_minor": 0,
  "metadata": {
    "colab": {
      "name": "Lab0_Tensorflow1.x",
      "provenance": [],
      "collapsed_sections": [],
      "toc_visible": true,
      "authorship_tag": "ABX9TyMCDv9J0FmEQL/8oFPxE5K1",
      "include_colab_link": true
    },
    "kernelspec": {
      "name": "python3",
      "display_name": "Python 3"
    }
  },
  "cells": [
    {
      "cell_type": "markdown",
      "metadata": {
        "id": "view-in-github",
        "colab_type": "text"
      },
      "source": [
        "<a href=\"https://colab.research.google.com/github/r0cd7b/DSAC/blob/master/Lab0_Tensorflow1_x.ipynb\" target=\"_parent\"><img src=\"https://colab.research.google.com/assets/colab-badge.svg\" alt=\"Open In Colab\"/></a>"
      ]
    },
    {
      "cell_type": "markdown",
      "metadata": {
        "id": "fh4ns8k6kV8r"
      },
      "source": [
        "Tensorflow 1.x Lab"
      ]
    },
    {
      "cell_type": "code",
      "metadata": {
        "id": "S-WPw3aojkoG"
      },
      "source": [
        "import numpy as np\n",
        "import matplotlib.pyplot as plt\n",
        "%matplotlib inline"
      ],
      "execution_count": 1,
      "outputs": []
    },
    {
      "cell_type": "code",
      "metadata": {
        "id": "c6HMLc7_kxBC"
      },
      "source": [
        "import tensorflow.compat.v1 as tf\n",
        "tf.compat.v1.disable_eager_execution()"
      ],
      "execution_count": 2,
      "outputs": []
    },
    {
      "cell_type": "markdown",
      "metadata": {
        "id": "36COy_q1mCCv"
      },
      "source": [
        "## Basic exercise"
      ]
    },
    {
      "cell_type": "code",
      "metadata": {
        "id": "5EyaVIluoGX4",
        "outputId": "16190b3c-7dca-4c68-d1d1-5057a1dbfc59",
        "colab": {
          "base_uri": "https://localhost:8080/"
        }
      },
      "source": [
        "a, b, c = 1., 2., 3.\n",
        "a, b, c, type(a)"
      ],
      "execution_count": 4,
      "outputs": [
        {
          "output_type": "execute_result",
          "data": {
            "text/plain": [
              "(1.0, 2.0, 3.0, float)"
            ]
          },
          "metadata": {
            "tags": []
          },
          "execution_count": 4
        }
      ]
    },
    {
      "cell_type": "code",
      "metadata": {
        "id": "V5clgVPUod1I",
        "outputId": "58cca3a4-440c-4def-a7a2-16ad2efaec0f",
        "colab": {
          "base_uri": "https://localhost:8080/"
        }
      },
      "source": [
        "x0 = tf.constant(1.)\n",
        "x1 = tf.constant([1., 2.])\n",
        "x2 = tf.constant([[1, 2, 3], [1, 2, 3], [1, 2, 3]], dtype='float32')\n",
        "x3 = tf.constant([\n",
        "                  [[1, 2, 3, 4], [1, 2, 3, 4], [1, 2, 3, 4], [1, 2, 3, 4]],\n",
        "                  [[1, 2, 3, 4], [1, 2, 3, 4], [1, 2, 3, 4], [1, 2, 3, 4]],\n",
        "                  [[1, 2, 3, 4], [1, 2, 3, 4], [1, 2, 3, 4], [1, 2, 3, 4]],\n",
        "                  [[1, 2, 3, 4], [1, 2, 3, 4], [1, 2, 3, 4], [1, 2, 3, 4]]\n",
        "                  ], dtype='float32')\n",
        "x0, x1, x2, x3"
      ],
      "execution_count": 27,
      "outputs": [
        {
          "output_type": "execute_result",
          "data": {
            "text/plain": [
              "(<tf.Tensor 'Const_46:0' shape=() dtype=float32>,\n",
              " <tf.Tensor 'Const_47:0' shape=(2,) dtype=float32>,\n",
              " <tf.Tensor 'Const_48:0' shape=(3, 3) dtype=float32>,\n",
              " <tf.Tensor 'Const_49:0' shape=(4, 4, 4) dtype=float32>)"
            ]
          },
          "metadata": {
            "tags": []
          },
          "execution_count": 27
        }
      ]
    },
    {
      "cell_type": "code",
      "metadata": {
        "id": "mFQjMJRFoyjf",
        "outputId": "f6bf51c6-12ad-46f7-e318-066fcd927f3c",
        "colab": {
          "base_uri": "https://localhost:8080/"
        }
      },
      "source": [
        "x4 = tf.constant([1., 2., 3., 4.])\n",
        "x5 = tf.constant([5., 6., 7., 8.])\n",
        "result = tf.multiply(x4, x5)\n",
        "print(result)"
      ],
      "execution_count": 29,
      "outputs": [
        {
          "output_type": "stream",
          "text": [
            "Tensor(\"Mul:0\", shape=(4,), dtype=float32)\n"
          ],
          "name": "stdout"
        }
      ]
    },
    {
      "cell_type": "code",
      "metadata": {
        "id": "aWk3nfiErvJ6"
      },
      "source": [
        ""
      ],
      "execution_count": null,
      "outputs": []
    }
  ]
}