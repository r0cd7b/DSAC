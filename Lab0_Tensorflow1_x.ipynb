{
  "nbformat": 4,
  "nbformat_minor": 0,
  "metadata": {
    "colab": {
      "name": "Lab0_Tensorflow1.x",
      "provenance": [],
      "collapsed_sections": [],
      "toc_visible": true,
      "authorship_tag": "ABX9TyOjlliK/tLYBchsUB1XXlqB",
      "include_colab_link": true
    },
    "kernelspec": {
      "name": "python3",
      "display_name": "Python 3"
    }
  },
  "cells": [
    {
      "cell_type": "markdown",
      "metadata": {
        "id": "view-in-github",
        "colab_type": "text"
      },
      "source": [
        "<a href=\"https://colab.research.google.com/github/r0cd7b/DSAC/blob/master/Lab0_Tensorflow1_x.ipynb\" target=\"_parent\"><img src=\"https://colab.research.google.com/assets/colab-badge.svg\" alt=\"Open In Colab\"/></a>"
      ]
    },
    {
      "cell_type": "markdown",
      "metadata": {
        "id": "fh4ns8k6kV8r"
      },
      "source": [
        "Tensorflow 1.x Lab"
      ]
    },
    {
      "cell_type": "code",
      "metadata": {
        "id": "S-WPw3aojkoG"
      },
      "source": [
        "import numpy as np\n",
        "import matplotlib.pyplot as plt\n",
        "%matplotlib inline"
      ],
      "execution_count": 1,
      "outputs": []
    },
    {
      "cell_type": "code",
      "metadata": {
        "id": "c6HMLc7_kxBC"
      },
      "source": [
        "import tensorflow.compat.v1 as tf\n",
        "tf.compat.v1.disable_eager_execution()"
      ],
      "execution_count": 2,
      "outputs": []
    },
    {
      "cell_type": "markdown",
      "metadata": {
        "id": "36COy_q1mCCv"
      },
      "source": [
        "## Basic exercise"
      ]
    },
    {
      "cell_type": "code",
      "metadata": {
        "id": "5EyaVIluoGX4",
        "outputId": "3bbc4f95-e64d-4b24-9842-ba8e3857731b",
        "colab": {
          "base_uri": "https://localhost:8080/"
        }
      },
      "source": [
        "a, b, c = 1., 2., 3.\n",
        "a, b, c, type(a)"
      ],
      "execution_count": 3,
      "outputs": [
        {
          "output_type": "execute_result",
          "data": {
            "text/plain": [
              "(1.0, 2.0, 3.0, float)"
            ]
          },
          "metadata": {
            "tags": []
          },
          "execution_count": 3
        }
      ]
    },
    {
      "cell_type": "code",
      "metadata": {
        "id": "V5clgVPUod1I",
        "outputId": "36926e45-c619-4cbe-b1e5-921aee8972c4",
        "colab": {
          "base_uri": "https://localhost:8080/"
        }
      },
      "source": [
        "x0 = tf.constant(1.)\n",
        "x1 = tf.constant([1., 2.])\n",
        "x2 = tf.constant([[1, 2, 3], [1, 2, 3], [1, 2, 3]], dtype='float32')\n",
        "x3 = tf.constant([\n",
        "                  [[1, 2, 3, 4], [1, 2, 3, 4], [1, 2, 3, 4], [1, 2, 3, 4]],\n",
        "                  [[1, 2, 3, 4], [1, 2, 3, 4], [1, 2, 3, 4], [1, 2, 3, 4]],\n",
        "                  [[1, 2, 3, 4], [1, 2, 3, 4], [1, 2, 3, 4], [1, 2, 3, 4]],\n",
        "                  [[1, 2, 3, 4], [1, 2, 3, 4], [1, 2, 3, 4], [1, 2, 3, 4]]\n",
        "                  ], dtype='float32')\n",
        "x0, x1, x2, x3"
      ],
      "execution_count": 4,
      "outputs": [
        {
          "output_type": "execute_result",
          "data": {
            "text/plain": [
              "(<tf.Tensor 'Const:0' shape=() dtype=float32>,\n",
              " <tf.Tensor 'Const_1:0' shape=(2,) dtype=float32>,\n",
              " <tf.Tensor 'Const_2:0' shape=(3, 3) dtype=float32>,\n",
              " <tf.Tensor 'Const_3:0' shape=(4, 4, 4) dtype=float32>)"
            ]
          },
          "metadata": {
            "tags": []
          },
          "execution_count": 4
        }
      ]
    },
    {
      "cell_type": "code",
      "metadata": {
        "id": "mFQjMJRFoyjf",
        "outputId": "317cd134-807e-4dde-b1c5-f233e585c525",
        "colab": {
          "base_uri": "https://localhost:8080/"
        }
      },
      "source": [
        "x4 = tf.constant([1., 2., 3., 4.])\n",
        "x5 = tf.constant([5., 6., 7., 8.])\n",
        "result1 = tf.multiply(x4, x5)\n",
        "result2 = x4 * x5\n",
        "print(result1, result2)"
      ],
      "execution_count": 7,
      "outputs": [
        {
          "output_type": "stream",
          "text": [
            "Tensor(\"Mul_4:0\", shape=(4,), dtype=float32) Tensor(\"mul_5:0\", shape=(4,), dtype=float32)\n"
          ],
          "name": "stdout"
        }
      ]
    },
    {
      "cell_type": "code",
      "metadata": {
        "id": "aWk3nfiErvJ6",
        "outputId": "3b7a058a-aa63-4bb2-f04f-802c4e5f67bc",
        "colab": {
          "base_uri": "https://localhost:8080/"
        }
      },
      "source": [
        "sess = tf.Session()\n",
        "print(sess.run([result1, result2]))\n",
        "sess.close()"
      ],
      "execution_count": 8,
      "outputs": [
        {
          "output_type": "stream",
          "text": [
            "[array([ 5., 12., 21., 32.], dtype=float32), array([ 5., 12., 21., 32.], dtype=float32)]\n"
          ],
          "name": "stdout"
        }
      ]
    },
    {
      "cell_type": "code",
      "metadata": {
        "id": "XNKCVvB-_ELB",
        "outputId": "26e81e6a-405e-4c7d-c71d-33b514219c31",
        "colab": {
          "base_uri": "https://localhost:8080/"
        }
      },
      "source": [
        "with tf.Session() as sess:\n",
        "  output1 = sess.run([result1, result2])\n",
        "  output2 = [result1.eval(), result2.eval()]\n",
        "output1, output2"
      ],
      "execution_count": 13,
      "outputs": [
        {
          "output_type": "execute_result",
          "data": {
            "text/plain": [
              "([array([ 5., 12., 21., 32.], dtype=float32),\n",
              "  array([ 5., 12., 21., 32.], dtype=float32)],\n",
              " [array([ 5., 12., 21., 32.], dtype=float32),\n",
              "  array([ 5., 12., 21., 32.], dtype=float32)])"
            ]
          },
          "metadata": {
            "tags": []
          },
          "execution_count": 13
        }
      ]
    },
    {
      "cell_type": "code",
      "metadata": {
        "id": "ZAq1dyOM_msY"
      },
      "source": [
        "# veriables\n",
        "v1 = tf.Variable(\"Hello\")\n",
        "v2 = tf.Variable(450)\n",
        "v3_1 = tf.random.normal([2])\n",
        "v3_2 = tf.random.normal((2,))"
      ],
      "execution_count": 18,
      "outputs": []
    },
    {
      "cell_type": "code",
      "metadata": {
        "id": "_bMQJeZpBbu_",
        "outputId": "25b4d3da-7df7-4f74-9552-631c56b77af5",
        "colab": {
          "base_uri": "https://localhost:8080/"
        }
      },
      "source": [
        "v1, v2, v3_1, v3_2"
      ],
      "execution_count": 19,
      "outputs": [
        {
          "output_type": "execute_result",
          "data": {
            "text/plain": [
              "(<tf.Variable 'Variable_8:0' shape=() dtype=string>,\n",
              " <tf.Variable 'Variable_9:0' shape=() dtype=int32>,\n",
              " <tf.Tensor 'random_normal_3:0' shape=(2,) dtype=float32>,\n",
              " <tf.Tensor 'random_normal_4:0' shape=(2,) dtype=float32>)"
            ]
          },
          "metadata": {
            "tags": []
          },
          "execution_count": 19
        }
      ]
    },
    {
      "cell_type": "code",
      "metadata": {
        "id": "3lJUoRmtClL7"
      },
      "source": [
        "data1 = tf.Variable([1, 2])\n",
        "data2 = tf.Variable([1., 2.])\n",
        "data3 = tf.Variable([[False, True], [False, False]], dtype=bool)\n",
        "data4 = tf.Variable([[1, 2], [3, 4], [5, 6], [7, 8]], tf.int32)"
      ],
      "execution_count": 21,
      "outputs": []
    },
    {
      "cell_type": "code",
      "metadata": {
        "id": "LQuRHrKyDstb"
      },
      "source": [
        ""
      ],
      "execution_count": null,
      "outputs": []
    }
  ]
}