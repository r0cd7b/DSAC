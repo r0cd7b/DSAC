{
  "nbformat": 4,
  "nbformat_minor": 0,
  "metadata": {
    "colab": {
      "name": "Lab2_XOR_NN.ipynb",
      "provenance": [],
      "collapsed_sections": [],
      "authorship_tag": "ABX9TyNGzRW20HOEPuZ7JG2FMWqe",
      "include_colab_link": true
    },
    "kernelspec": {
      "name": "python3",
      "display_name": "Python 3"
    },
    "accelerator": "GPU"
  },
  "cells": [
    {
      "cell_type": "markdown",
      "metadata": {
        "id": "view-in-github",
        "colab_type": "text"
      },
      "source": [
        "<a href=\"https://colab.research.google.com/github/r0cd7b/DSAC/blob/master/Lab2_XOR_NN.ipynb\" target=\"_parent\"><img src=\"https://colab.research.google.com/assets/colab-badge.svg\" alt=\"Open In Colab\"/></a>"
      ]
    },
    {
      "cell_type": "markdown",
      "metadata": {
        "id": "xHBKsso3zKYf"
      },
      "source": [
        "# Tensorflow"
      ]
    },
    {
      "cell_type": "code",
      "metadata": {
        "id": "6MxNBhfifRsu"
      },
      "source": [
        "import numpy as np\n",
        "import tensorflow as tf\n",
        "import matplotlib.pyplot as plt\n",
        "%matplotlib inline\n",
        "\n",
        "tf.random.set_seed(0)\n",
        "\n",
        "x = np.array([[0, 0], [1, 0], [0, 1], [1, 1]], dtype=\"float32\")\n",
        "y = np.array([[0], [1], [1], [0]], dtype=\"float32\")"
      ],
      "execution_count": 1,
      "outputs": []
    },
    {
      "cell_type": "code",
      "metadata": {
        "id": "g1BCisn4yZAK",
        "outputId": "560308aa-00a6-40a0-bb8a-7076ebaa7d07",
        "colab": {
          "base_uri": "https://localhost:8080/",
          "height": 412
        }
      },
      "source": [
        "# w = tf.Variable(tf.random.normal([[n1], [n2]]))\n",
        "w = tf.Variable(tf.random.normal([2, 1]))\n",
        "# b = tf.Variable([n])\n",
        "b = tf.Variable(tf.random.normal([1]))\n",
        "\n",
        "learning_rate = 0.1\n",
        "\n",
        "lossHistory = []\n",
        "for i in range(300):\n",
        "  with tf.GradientTape(persistent=True) as tape:\n",
        "    hypothesis = tf.sigmoid(tf.matmul(x, w) + b)\n",
        "    cost = -tf.reduce_mean(y * tf.math.log(hypothesis) + (1 - y) * tf.math.log(1 - hypothesis))  # cross entropy\n",
        "  w_grad, b_grad = tape.gradient(cost, [w, b])\n",
        "  w.assign_sub(learning_rate * w_grad)\n",
        "  b.assign_sub(learning_rate * b_grad)\n",
        "  lossHistory.append(cost)\n",
        "\n",
        "predicted = tf.cast(hypothesis > 0.5, dtype=tf.float32)\n",
        "accuracy = tf.reduce_mean(tf.cast(tf.equal(predicted, y), dtype=tf.float32))\n",
        "\n",
        "print(hypothesis.numpy(), predicted.numpy(), accuracy.numpy())\n",
        "plt.plot(lossHistory)"
      ],
      "execution_count": 2,
      "outputs": [
        {
          "output_type": "stream",
          "text": [
            "[[0.48017547]\n",
            " [0.51956606]\n",
            " [0.47421843]\n",
            " [0.51360315]] [[0.]\n",
            " [1.]\n",
            " [0.]\n",
            " [1.]] 0.5\n"
          ],
          "name": "stdout"
        },
        {
          "output_type": "execute_result",
          "data": {
            "text/plain": [
              "[<matplotlib.lines.Line2D at 0x7f0f2010ef98>]"
            ]
          },
          "metadata": {
            "tags": []
          },
          "execution_count": 2
        },
        {
          "output_type": "display_data",
          "data": {
            "image/png": "[encoded data removed]",
            "text/plain": [
              "<Figure size 432x288 with 1 Axes>"
            ]
          },
          "metadata": {
            "tags": [],
            "needs_background": "light"
          }
        }
      ]
    },
    {
      "cell_type": "markdown",
      "metadata": {
        "id": "8Tgf3lK9I7sz"
      },
      "source": [
        "# using kerad function"
      ]
    },
    {
      "cell_type": "code",
      "metadata": {
        "id": "yyd0Q1SFf8U-"
      },
      "source": [
        "from keras.models import Sequential\n",
        "from keras.layers.core import Dense\n",
        "from keras.optimizers import SGD"
      ],
      "execution_count": 3,
      "outputs": []
    },
    {
      "cell_type": "code",
      "metadata": {
        "id": "tDJqNTLkQJkh",
        "outputId": "7abcd49d-dc12-4377-f468-19d67cfea772",
        "colab": {
          "base_uri": "https://localhost:8080/",
          "height": 596
        }
      },
      "source": [
        "model = Sequential()\n",
        "\n",
        "model.add(Dense(1, input_shape=(2,), activation=\"sigmoid\"))\n",
        "\n",
        "model.summary()\n",
        "model.compile(optimizer=SGD(learning_rate=0.1), loss=\"binary_crossentropy\", metrics=\"accuracy\")\n",
        "history = model.fit(x, y, epochs=400, verbose=0)\n",
        "\n",
        "print(model.predict_proba(x))\n",
        "\n",
        "plt.subplot(1, 2, 1)\n",
        "plt.plot(history.history[\"loss\"])\n",
        "plt.subplot(1, 2, 2)\n",
        "plt.plot(history.history[\"accuracy\"])"
      ],
      "execution_count": 4,
      "outputs": [
        {
          "output_type": "stream",
          "text": [
            "Model: \"sequential\"\n",
            "_________________________________________________________________\n",
            "Layer (type)                 Output Shape              Param #   \n",
            "=================================================================\n",
            "dense (Dense)                (None, 1)                 3         \n",
            "=================================================================\n",
            "Total params: 3\n",
            "Trainable params: 3\n",
            "Non-trainable params: 0\n",
            "_________________________________________________________________\n",
            "WARNING:tensorflow:From <ipython-input-4-6328c9a0aadb>:9: Sequential.predict_proba (from tensorflow.python.keras.engine.sequential) is deprecated and will be removed after 2021-01-01.\n",
            "Instructions for updating:\n",
            "Please use `model.predict()` instead.\n",
            "[[0.50329465]\n",
            " [0.4844361 ]\n",
            " [0.5165976 ]\n",
            " [0.49774015]]\n"
          ],
          "name": "stdout"
        },
        {
          "output_type": "execute_result",
          "data": {
            "text/plain": [
              "[<matplotlib.lines.Line2D at 0x7f0f2bc68e80>]"
            ]
          },
          "metadata": {
            "tags": []
          },
          "execution_count": 4
        },
        {
          "output_type": "display_data",
          "data": {
            "image/png": "[encoded data removed]",
            "text/plain": [
              "<Figure size 432x288 with 2 Axes>"
            ]
          },
          "metadata": {
            "tags": [],
            "needs_background": "light"
          }
        }
      ]
    },
    {
      "cell_type": "markdown",
      "metadata": {
        "id": "a8f5kOSJUoF-"
      },
      "source": [
        "# Multi-layer Perceptron (MLP)"
      ]
    },
    {
      "cell_type": "code",
      "metadata": {
        "id": "Udu_BQ7mVMVk",
        "outputId": "6d5a3d8a-728d-4c3a-f0ba-13bf2a235da7",
        "colab": {
          "base_uri": "https://localhost:8080/",
          "height": 578
        }
      },
      "source": [
        "model = Sequential()\n",
        "\n",
        "model.add(Dense(8, input_shape=(2,), activation='tanh'))\n",
        "model.add(Dense(1, activation='sigmoid'))\n",
        "\n",
        "model.summary()\n",
        "model.compile(optimizer=SGD(learning_rate=0.1), loss=\"binary_crossentropy\", metrics=\"accuracy\")\n",
        "history = model.fit(x, y, epochs=600, verbose=0)\n",
        "\n",
        "print(model.predict_proba(x))\n",
        "\n",
        "plt.subplot(1, 2, 1)\n",
        "plt.plot(history.history[\"loss\"])\n",
        "plt.subplot(1, 2, 2)\n",
        "plt.plot(history.history[\"accuracy\"])"
      ],
      "execution_count": 5,
      "outputs": [
        {
          "output_type": "stream",
          "text": [
            "Model: \"sequential_1\"\n",
            "_________________________________________________________________\n",
            "Layer (type)                 Output Shape              Param #   \n",
            "=================================================================\n",
            "dense_1 (Dense)              (None, 8)                 24        \n",
            "_________________________________________________________________\n",
            "dense_2 (Dense)              (None, 1)                 9         \n",
            "=================================================================\n",
            "Total params: 33\n",
            "Trainable params: 33\n",
            "Non-trainable params: 0\n",
            "_________________________________________________________________\n",
            "[[0.074259  ]\n",
            " [0.8428382 ]\n",
            " [0.85463935]\n",
            " [0.18718694]]\n"
          ],
          "name": "stdout"
        },
        {
          "output_type": "execute_result",
          "data": {
            "text/plain": [
              "[<matplotlib.lines.Line2D at 0x7f0ebe73b550>]"
            ]
          },
          "metadata": {
            "tags": []
          },
          "execution_count": 5
        },
        {
          "output_type": "display_data",
          "data": {
            "image/png": "[encoded data removed]",
            "text/plain": [
              "<Figure size 432x288 with 2 Axes>"
            ]
          },
          "metadata": {
            "tags": [],
            "needs_background": "light"
          }
        }
      ]
    },
    {
      "cell_type": "markdown",
      "metadata": {
        "id": "Hx5FhWZrWfxe"
      },
      "source": [
        "# Many layers (8 layers)"
      ]
    },
    {
      "cell_type": "code",
      "metadata": {
        "id": "xnVG_VBbZdVw",
        "outputId": "c8bea495-2b80-4160-e8c5-cc08f5dc10ed",
        "colab": {
          "base_uri": "https://localhost:8080/",
          "height": 874
        }
      },
      "source": [
        "model = Sequential()\n",
        "\n",
        "layers, activation = 8, \"relu\"\n",
        "model.add(Dense(layers, input_shape=(2,), activation=activation))\n",
        "for i in range(layers - 1):\n",
        "  model.add(Dense(layers, activation=activation))\n",
        "model.add(Dense(1, activation='sigmoid'))\n",
        "\n",
        "model.summary()\n",
        "model.compile(optimizer=SGD(learning_rate=0.1), loss=\"binary_crossentropy\", metrics=\"accuracy\")\n",
        "history = model.fit(x, y, epochs=700, verbose=0)\n",
        "\n",
        "print(model.predict_proba(x))\n",
        "\n",
        "plt.subplot(1, 2, 1)\n",
        "plt.plot(history.history[\"loss\"])\n",
        "plt.subplot(1, 2, 2)\n",
        "plt.plot(history.history[\"accuracy\"])"
      ],
      "execution_count": 8,
      "outputs": [
        {
          "output_type": "stream",
          "text": [
            "Model: \"sequential_4\"\n",
            "_________________________________________________________________\n",
            "Layer (type)                 Output Shape              Param #   \n",
            "=================================================================\n",
            "dense_21 (Dense)             (None, 8)                 24        \n",
            "_________________________________________________________________\n",
            "dense_22 (Dense)             (None, 8)                 72        \n",
            "_________________________________________________________________\n",
            "dense_23 (Dense)             (None, 8)                 72        \n",
            "_________________________________________________________________\n",
            "dense_24 (Dense)             (None, 8)                 72        \n",
            "_________________________________________________________________\n",
            "dense_25 (Dense)             (None, 8)                 72        \n",
            "_________________________________________________________________\n",
            "dense_26 (Dense)             (None, 8)                 72        \n",
            "_________________________________________________________________\n",
            "dense_27 (Dense)             (None, 8)                 72        \n",
            "_________________________________________________________________\n",
            "dense_28 (Dense)             (None, 8)                 72        \n",
            "_________________________________________________________________\n",
            "dense_29 (Dense)             (None, 1)                 9         \n",
            "=================================================================\n",
            "Total params: 537\n",
            "Trainable params: 537\n",
            "Non-trainable params: 0\n",
            "_________________________________________________________________\n",
            "WARNING:tensorflow:5 out of the last 5 calls to <function Model.make_predict_function.<locals>.predict_function at 0x7f0ebe2ba598> triggered tf.function retracing. Tracing is expensive and the excessive number of tracings could be due to (1) creating @tf.function repeatedly in a loop, (2) passing tensors with different shapes, (3) passing Python objects instead of tensors. For (1), please define your @tf.function outside of the loop. For (2), @tf.function has experimental_relax_shapes=True option that relaxes argument shapes that can avoid unnecessary retracing. For (3), please refer to https://www.tensorflow.org/tutorials/customization/performance#python_or_tensor_args and https://www.tensorflow.org/api_docs/python/tf/function for  more details.\n",
            "[[0.01670811]\n",
            " [0.9999883 ]\n",
            " [0.9996069 ]\n",
            " [0.01634898]]\n"
          ],
          "name": "stdout"
        },
        {
          "output_type": "execute_result",
          "data": {
            "text/plain": [
              "[<matplotlib.lines.Line2D at 0x7f0eb4fba3c8>]"
            ]
          },
          "metadata": {
            "tags": []
          },
          "execution_count": 8
        },
        {
          "output_type": "display_data",
          "data": {
            "image/png": "[encoded data removed]",
            "text/plain": [
              "<Figure size 432x288 with 2 Axes>"
            ]
          },
          "metadata": {
            "tags": [],
            "needs_background": "light"
          }
        }
      ]
    },
    {
      "cell_type": "code",
      "metadata": {
        "id": "evDwTV_6cm3F"
      },
      "source": [
        ""
      ],
      "execution_count": 6,
      "outputs": []
    }
  ]
}