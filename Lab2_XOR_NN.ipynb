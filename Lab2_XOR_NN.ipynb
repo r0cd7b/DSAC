{
  "nbformat": 4,
  "nbformat_minor": 0,
  "metadata": {
    "colab": {
      "name": "Lab2_XOR_NN.ipynb",
      "provenance": [],
      "collapsed_sections": [],
      "authorship_tag": "ABX9TyNpeB5nsIicxIlmvmbfvYSS",
      "include_colab_link": true
    },
    "kernelspec": {
      "name": "python3",
      "display_name": "Python 3"
    },
    "accelerator": "GPU"
  },
  "cells": [
    {
      "cell_type": "markdown",
      "metadata": {
        "id": "view-in-github",
        "colab_type": "text"
      },
      "source": [
        "<a href=\"https://colab.research.google.com/github/r0cd7b/DSAC/blob/master/Lab2_XOR_NN.ipynb\" target=\"_parent\"><img src=\"https://colab.research.google.com/assets/colab-badge.svg\" alt=\"Open In Colab\"/></a>"
      ]
    },
    {
      "cell_type": "markdown",
      "metadata": {
        "id": "xHBKsso3zKYf"
      },
      "source": [
        "# Tensorflow"
      ]
    },
    {
      "cell_type": "code",
      "metadata": {
        "id": "AYmWphtix5cd"
      },
      "source": [
        "import numpy as np\n",
        "import tensorflow as tf\n",
        "import matplotlib.pyplot as plt\n",
        "%matplotlib inline"
      ],
      "execution_count": 1,
      "outputs": []
    },
    {
      "cell_type": "code",
      "metadata": {
        "id": "g1BCisn4yZAK"
      },
      "source": [
        "tf.random.set_seed(17)\n",
        "\n",
        "x = np.array([[0, 0], [1, 0], [0, 1], [1, 1]])\n",
        "y = np.array([[0], [1], [1], [0]])\n",
        "\n",
        "# w = tf.Variable(tf.random.normal([[n1], [n2]]))\n",
        "w = tf.Variable(tf.random.normal([2, 1]))\n",
        "# b = tf.Variable([n])\n",
        "b = tf.Variable(tf.random.normal([1]))\n",
        "\n",
        "learning_rate = 0.01"
      ],
      "execution_count": 4,
      "outputs": []
    },
    {
      "cell_type": "code",
      "metadata": {
        "id": "GZr9s98nzHx1"
      },
      "source": [
        ""
      ],
      "execution_count": 2,
      "outputs": []
    }
  ]
}