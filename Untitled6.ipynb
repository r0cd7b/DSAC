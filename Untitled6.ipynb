{
 "cells": [
  {
   "cell_type": "code",
   "execution_count": 1,
   "metadata": {},
   "outputs": [
    {
     "name": "stdout",
     "output_type": "stream",
     "text": [
      "(569, 30) (569,) \n",
      "\n",
      "['mean radius' 'mean texture' 'mean perimeter' 'mean area'\n",
      " 'mean smoothness' 'mean compactness' 'mean concavity'\n",
      " 'mean concave points' 'mean symmetry' 'mean fractal dimension'\n",
      " 'radius error' 'texture error' 'perimeter error' 'area error'\n",
      " 'smoothness error' 'compactness error' 'concavity error'\n",
      " 'concave points error' 'symmetry error' 'fractal dimension error'\n",
      " 'worst radius' 'worst texture' 'worst perimeter' 'worst area'\n",
      " 'worst smoothness' 'worst compactness' 'worst concavity'\n",
      " 'worst concave points' 'worst symmetry' 'worst fractal dimension'] \n",
      "\n",
      "0.9596025461884802\n"
     ]
    }
   ],
   "source": [
    "import numpy as np\n",
    "import pandas as pd\n",
    "import matplotlib.pyplot as plt\n",
    "%matplotlib inline\n",
    "\n",
    "from sklearn.metrics import confusion_matrix, classification_report, roc_curve, auc\n",
    "from sklearn.preprocessing import StandardScaler\n",
    "from sklearn.linear_model import SGDClassifier, LogisticRegression\n",
    "from sklearn.tree import DecisionTreeClassifier\n",
    "from sklearn.svm import SVC\n",
    "\n",
    "from sklearn.datasets import load_breast_cancer\n",
    "from sklearn.model_selection import train_test_split, cross_val_score\n",
    "from sklearn.ensemble import RandomForestClassifier\n",
    "from sklearn.feature_selection import SelectPercentile, chi2\n",
    "from sklearn.preprocessing import StandardScaler\n",
    "from sklearn.decomposition import PCA\n",
    "from sklearn.manifold import TSNE\n",
    "\n",
    "cancer = load_breast_cancer()\n",
    "\n",
    "X_all = StandardScaler().fit_transform(cancer.data)\n",
    "y = cancer.target\n",
    "\n",
    "print(X_all.shape, y.shape, '\\n')\n",
    "\n",
    "print(cancer.feature_names, '\\n')\n",
    "\n",
    "rfc = RandomForestClassifier(n_estimators=200)\n",
    "print(cross_val_score(rfc, X_all, y, cv=5).mean())"
   ]
  },
  {
   "cell_type": "code",
   "execution_count": 2,
   "metadata": {},
   "outputs": [
    {
     "name": "stdout",
     "output_type": "stream",
     "text": [
      "(569, 6) \n",
      "\n",
      "[False False  True  True False False False False False False False False\n",
      " False  True False False False False False False  True False  True  True\n",
      " False False False False False False] \n",
      "\n",
      "[23  3 13 22  2 20  0 12 21  1 26 10  6 25 27  7  5 28 16 15 24 17  8 29\n",
      "  4 11 19 14 18  9] \n",
      "\n",
      "['worst area' 'mean area' 'area error' 'worst perimeter' 'mean perimeter'\n",
      " 'worst radius'] \n",
      "\n",
      "0.9315168452103709\n"
     ]
    }
   ],
   "source": [
    "fs = SelectPercentile(chi2, percentile=20)\n",
    "X_P = fs.fit_transform(cancer.data, y)\n",
    "X_P = StandardScaler().fit_transform(X_P)\n",
    "print(X_P.shape, '\\n')\n",
    "\n",
    "print(fs.get_support(), '\\n')\n",
    "\n",
    "print(np.array(fs.scores_).argsort()[::-1], '\\n')\n",
    "\n",
    "print(cancer.feature_names[[23, 3, 13, 22, 2, 20]], '\\n')\n",
    "\n",
    "rfc = RandomForestClassifier(n_estimators=200)\n",
    "print(cross_val_score(rfc, X_P, y, cv=5).mean())"
   ]
  },
  {
   "cell_type": "code",
   "execution_count": 3,
   "metadata": {},
   "outputs": [
    {
     "name": "stdout",
     "output_type": "stream",
     "text": [
      "0.9156342182890855\n"
     ]
    }
   ],
   "source": [
    "fs = SelectPercentile(chi2, percentile=6)\n",
    "X_P = fs.fit_transform(cancer.data, y)\n",
    "X_P = StandardScaler().fit_transform(X_P)\n",
    "\n",
    "rfc = RandomForestClassifier(n_estimators=200)\n",
    "print(cross_val_score(rfc, X_P, y, cv=5).mean())"
   ]
  },
  {
   "cell_type": "code",
   "execution_count": 4,
   "metadata": {},
   "outputs": [
    {
     "name": "stdout",
     "output_type": "stream",
     "text": [
      "[[ 9.19283683  1.94858307]\n",
      " [ 2.3878018  -3.76817174]\n",
      " [ 5.73389628 -1.0751738 ]\n",
      " ...\n",
      " [ 1.25617928 -1.90229671]\n",
      " [10.37479406  1.6720101 ]\n",
      " [-5.4752433  -0.67063679]]\n"
     ]
    },
    {
     "data": {
      "image/png": "[encoded data removed]",
      "text/plain": [
       "<Figure size 576x432 with 1 Axes>"
      ]
     },
     "metadata": {
      "needs_background": "light"
     },
     "output_type": "display_data"
    }
   ],
   "source": [
    "pca = PCA(n_components = 2)\n",
    "pca_result = pca.fit_transform(X_all)\n",
    "print(pca_result)\n",
    "\n",
    "m, c = ['v', 'o'], ['r', 'b']\n",
    "plt.figure(figsize=(8, 6))\n",
    "for i in range(len(y)):\n",
    "    plt.scatter(pca_result[:, 0][i], pca_result[:, 1][i], marker=m[y[i]], c=c[y[i]], s=5)\n",
    "plt.show()"
   ]
  },
  {
   "cell_type": "code",
   "execution_count": 5,
   "metadata": {},
   "outputs": [
    {
     "name": "stdout",
     "output_type": "stream",
     "text": [
      "[[ 0.2189   0.10372  0.22754  0.22099  0.14259  0.23929  0.2584   0.26085\n",
      "   0.13817  0.06436  0.20598  0.01743  0.21133  0.20287  0.01453  0.17039\n",
      "   0.15359  0.18342  0.0425   0.10257  0.228    0.10447  0.23664  0.22487\n",
      "   0.12795  0.2101   0.22877  0.25089  0.1229   0.13178]\n",
      " [-0.23386 -0.05971 -0.21518 -0.23108  0.18611  0.15189  0.06017 -0.03477\n",
      "   0.19035  0.36658 -0.10555  0.08998 -0.08946 -0.15229  0.20443  0.23272\n",
      "   0.19721  0.13032  0.18385  0.28009 -0.21987 -0.04547 -0.19988 -0.21935\n",
      "   0.1723   0.14359  0.09796 -0.00826  0.14188  0.27534]] \n",
      "\n",
      "0.9297158826269213\n"
     ]
    }
   ],
   "source": [
    "print(pca.components_.round(5), '\\n')\n",
    "\n",
    "rfc = RandomForestClassifier(n_estimators=200)\n",
    "print(cross_val_score(rfc, pca_result, y, cv=5).mean())"
   ]
  },
  {
   "cell_type": "code",
   "execution_count": 6,
   "metadata": {},
   "outputs": [
    {
     "name": "stdout",
     "output_type": "stream",
     "text": [
      "[t-SNE] Computing 121 nearest neighbors...\n",
      "[t-SNE] Indexed 569 samples in 0.016s...\n",
      "[t-SNE] Computed neighbors for 569 samples in 0.047s...\n",
      "[t-SNE] Computed conditional probabilities for sample 569 / 569\n",
      "[t-SNE] Mean sigma: 1.522404\n",
      "[t-SNE] KL divergence after 250 iterations with early exaggeration: 64.386337\n",
      "[t-SNE] KL divergence after 1000 iterations: 0.883179\n",
      "[[ 11.302587   21.056025 ]\n",
      " [  1.1125419  16.748213 ]\n",
      " [  7.8475604  20.12244  ]\n",
      " ...\n",
      " [ -2.595395   11.137308 ]\n",
      " [ 10.2623625  22.223915 ]\n",
      " [-10.523266  -18.378817 ]]\n"
     ]
    }
   ],
   "source": [
    "tsne = TSNE(n_components=2, verbose=1, perplexity=40, n_iter=1000)\n",
    "tsne_results = tsne.fit_transform(X_all)\n",
    "print(tsne_results)"
   ]
  },
  {
   "cell_type": "code",
   "execution_count": 7,
   "metadata": {},
   "outputs": [
    {
     "data": {
      "image/png": "[encoded data removed]",
      "text/plain": [
       "<Figure size 576x432 with 1 Axes>"
      ]
     },
     "metadata": {
      "needs_background": "light"
     },
     "output_type": "display_data"
    }
   ],
   "source": [
    "m, c = ['v', 'o'], ['r', 'b']\n",
    "plt.figure(figsize=(8, 6))\n",
    "for i in range(len(y)):\n",
    "    plt.scatter(tsne_results[:, 0][i], tsne_results[:, 1][i], marker=m[y[i]], c=c[y[i]], s=5)"
   ]
  },
  {
   "cell_type": "code",
   "execution_count": null,
   "metadata": {},
   "outputs": [],
   "source": []
  }
 ],
 "metadata": {
  "kernelspec": {
   "display_name": "Python 3",
   "language": "python",
   "name": "python3"
  },
  "language_info": {
   "codemirror_mode": {
    "name": "ipython",
    "version": 3
   },
   "file_extension": ".py",
   "mimetype": "text/x-python",
   "name": "python",
   "nbconvert_exporter": "python",
   "pygments_lexer": "ipython3",
   "version": "3.8.3"
  }
 },
 "nbformat": 4,
 "nbformat_minor": 4
}
