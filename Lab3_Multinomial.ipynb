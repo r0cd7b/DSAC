{
  "nbformat": 4,
  "nbformat_minor": 0,
  "metadata": {
    "colab": {
      "name": "Lab3_Multinomial.ipynb",
      "provenance": [],
      "collapsed_sections": [],
      "authorship_tag": "ABX9TyO/wSTHEsOxvulLx09WWd0h",
      "include_colab_link": true
    },
    "kernelspec": {
      "name": "python3",
      "display_name": "Python 3"
    },
    "accelerator": "GPU"
  },
  "cells": [
    {
      "cell_type": "markdown",
      "metadata": {
        "id": "view-in-github",
        "colab_type": "text"
      },
      "source": [
        "<a href=\"https://colab.research.google.com/github/r0cd7b/DSAC/blob/master/Lab3_Multinomial.ipynb\" target=\"_parent\"><img src=\"https://colab.research.google.com/assets/colab-badge.svg\" alt=\"Open In Colab\"/></a>"
      ]
    },
    {
      "cell_type": "markdown",
      "metadata": {
        "id": "Np48yz7ymhaT"
      },
      "source": [
        ""
      ]
    },
    {
      "cell_type": "markdown",
      "metadata": {
        "id": "ptlwf9oAmovK"
      },
      "source": [
        "# Multinomial Classification\n",
        "\n",
        "\n",
        "*   Iris Dataset\n",
        "*   One-hot Encoding\n",
        "*   Softmax\n",
        "*   Cross Entropy(Multi-Class)\n",
        "\n",
        "\n",
        "\n"
      ]
    },
    {
      "cell_type": "code",
      "metadata": {
        "id": "XOQmoBUtf4iY",
        "outputId": "54e7dcce-6f96-4c9a-9775-50eed0a27715",
        "colab": {
          "base_uri": "https://localhost:8080/",
          "height": 195
        }
      },
      "source": [
        "import numpy as np\n",
        "import tensorflow as tf\n",
        "import matplotlib.pyplot as plt\n",
        "%matplotlib inline\n",
        "import seaborn as sns\n",
        "from keras.models import Sequential, load_model\n",
        "from keras.layers.core import Dense\n",
        "from keras.optimizers import SGD\n",
        "from keras.utils import np_utils\n",
        "from sklearn.preprocessing import LabelEncoder\n",
        "from sklearn.model_selection import train_test_split\n",
        "\n",
        "iris_data = sns.load_dataset(\"iris\")\n",
        "iris_data.head()"
      ],
      "execution_count": 1,
      "outputs": [
        {
          "output_type": "execute_result",
          "data": {
            "text/html": [
              "<div>\n",
              "<style scoped>\n",
              "    .dataframe tbody tr th:only-of-type {\n",
              "        vertical-align: middle;\n",
              "    }\n",
              "\n",
              "    .dataframe tbody tr th {\n",
              "        vertical-align: top;\n",
              "    }\n",
              "\n",
              "    .dataframe thead th {\n",
              "        text-align: right;\n",
              "    }\n",
              "</style>\n",
              "<table border=\"1\" class=\"dataframe\">\n",
              "  <thead>\n",
              "    <tr style=\"text-align: right;\">\n",
              "      <th></th>\n",
              "      <th>sepal_length</th>\n",
              "      <th>sepal_width</th>\n",
              "      <th>petal_length</th>\n",
              "      <th>petal_width</th>\n",
              "      <th>species</th>\n",
              "    </tr>\n",
              "  </thead>\n",
              "  <tbody>\n",
              "    <tr>\n",
              "      <th>0</th>\n",
              "      <td>5.1</td>\n",
              "      <td>3.5</td>\n",
              "      <td>1.4</td>\n",
              "      <td>0.2</td>\n",
              "      <td>setosa</td>\n",
              "    </tr>\n",
              "    <tr>\n",
              "      <th>1</th>\n",
              "      <td>4.9</td>\n",
              "      <td>3.0</td>\n",
              "      <td>1.4</td>\n",
              "      <td>0.2</td>\n",
              "      <td>setosa</td>\n",
              "    </tr>\n",
              "    <tr>\n",
              "      <th>2</th>\n",
              "      <td>4.7</td>\n",
              "      <td>3.2</td>\n",
              "      <td>1.3</td>\n",
              "      <td>0.2</td>\n",
              "      <td>setosa</td>\n",
              "    </tr>\n",
              "    <tr>\n",
              "      <th>3</th>\n",
              "      <td>4.6</td>\n",
              "      <td>3.1</td>\n",
              "      <td>1.5</td>\n",
              "      <td>0.2</td>\n",
              "      <td>setosa</td>\n",
              "    </tr>\n",
              "    <tr>\n",
              "      <th>4</th>\n",
              "      <td>5.0</td>\n",
              "      <td>3.6</td>\n",
              "      <td>1.4</td>\n",
              "      <td>0.2</td>\n",
              "      <td>setosa</td>\n",
              "    </tr>\n",
              "  </tbody>\n",
              "</table>\n",
              "</div>"
            ],
            "text/plain": [
              "   sepal_length  sepal_width  petal_length  petal_width species\n",
              "0           5.1          3.5           1.4          0.2  setosa\n",
              "1           4.9          3.0           1.4          0.2  setosa\n",
              "2           4.7          3.2           1.3          0.2  setosa\n",
              "3           4.6          3.1           1.5          0.2  setosa\n",
              "4           5.0          3.6           1.4          0.2  setosa"
            ]
          },
          "metadata": {
            "tags": []
          },
          "execution_count": 1
        }
      ]
    },
    {
      "cell_type": "code",
      "metadata": {
        "id": "W2PZwFJIoGjX",
        "outputId": "550b15c0-f943-4f00-e18f-e6fd8ce8ed03",
        "colab": {
          "base_uri": "https://localhost:8080/"
        }
      },
      "source": [
        "X, y = iris_data.values[:, :4].astype(\"float32\"), iris_data.values[:, 4]\n",
        "\n",
        "y_pre = LabelEncoder().fit_transform(y)\n",
        "y = np_utils.to_categorical(y_pre)\n",
        "X[:3], y[:3], y[-3:]"
      ],
      "execution_count": 2,
      "outputs": [
        {
          "output_type": "execute_result",
          "data": {
            "text/plain": [
              "(array([[5.1, 3.5, 1.4, 0.2],\n",
              "        [4.9, 3. , 1.4, 0.2],\n",
              "        [4.7, 3.2, 1.3, 0.2]], dtype=float32), array([[1., 0., 0.],\n",
              "        [1., 0., 0.],\n",
              "        [1., 0., 0.]], dtype=float32), array([[0., 0., 1.],\n",
              "        [0., 0., 1.],\n",
              "        [0., 0., 1.]], dtype=float32))"
            ]
          },
          "metadata": {
            "tags": []
          },
          "execution_count": 2
        }
      ]
    },
    {
      "cell_type": "code",
      "metadata": {
        "id": "MLtX06LWqURr",
        "outputId": "bd6e886b-006c-4886-9278-e12ccbe4259b",
        "colab": {
          "base_uri": "https://localhost:8080/"
        }
      },
      "source": [
        "X_train, X_test, y_train, y_test = train_test_split(X, y, test_size=0.2)\n",
        "X_train.shape, y_train.shape"
      ],
      "execution_count": 3,
      "outputs": [
        {
          "output_type": "execute_result",
          "data": {
            "text/plain": [
              "((120, 4), (120, 3))"
            ]
          },
          "metadata": {
            "tags": []
          },
          "execution_count": 3
        }
      ]
    },
    {
      "cell_type": "code",
      "metadata": {
        "id": "yduispasn5wb",
        "outputId": "6fc6ce8f-b7be-49e0-886e-2481f012e052",
        "colab": {
          "base_uri": "https://localhost:8080/"
        }
      },
      "source": [
        "model = Sequential()\n",
        "\n",
        "model.add(Dense(16, input_shape=(4,), activation=\"relu\"))\n",
        "model.add(Dense(3, activation='softmax'))\n",
        "\n",
        "model.summary()\n",
        "model.compile(optimizer=\"adam\", loss=\"categorical_crossentropy\", metrics=\"accuracy\")\n",
        "history = model.fit(X_train, y_train, epochs=200, batch_size=10, verbose=0)\n",
        "model.save(\"iris_model.h5\")"
      ],
      "execution_count": 4,
      "outputs": [
        {
          "output_type": "stream",
          "text": [
            "Model: \"sequential\"\n",
            "_________________________________________________________________\n",
            "Layer (type)                 Output Shape              Param #   \n",
            "=================================================================\n",
            "dense (Dense)                (None, 16)                80        \n",
            "_________________________________________________________________\n",
            "dense_1 (Dense)              (None, 3)                 51        \n",
            "=================================================================\n",
            "Total params: 131\n",
            "Trainable params: 131\n",
            "Non-trainable params: 0\n",
            "_________________________________________________________________\n"
          ],
          "name": "stdout"
        }
      ]
    },
    {
      "cell_type": "code",
      "metadata": {
        "id": "kJRjytc-t7II",
        "outputId": "de146d6a-37d5-4661-81c4-5e4d88920760",
        "colab": {
          "base_uri": "https://localhost:8080/"
        }
      },
      "source": [
        "del model\n",
        "model = load_model(\"iris_model.h5\")\n",
        "model.evaluate(X_test, y_test)"
      ],
      "execution_count": 5,
      "outputs": [
        {
          "output_type": "stream",
          "text": [
            "1/1 [==============================] - 0s 1ms/step - loss: 0.1680 - accuracy: 0.9667\n"
          ],
          "name": "stdout"
        },
        {
          "output_type": "execute_result",
          "data": {
            "text/plain": [
              "[0.16801662743091583, 0.9666666388511658]"
            ]
          },
          "metadata": {
            "tags": []
          },
          "execution_count": 5
        }
      ]
    },
    {
      "cell_type": "code",
      "metadata": {
        "id": "hRQdJh36sLSd",
        "outputId": "6cfa4a87-a609-4fd9-f0ae-378754d9734a",
        "colab": {
          "base_uri": "https://localhost:8080/",
          "height": 283
        }
      },
      "source": [
        "plt.subplot(1, 2, 1)\n",
        "plt.plot(history.history[\"loss\"])\n",
        "plt.subplot(1, 2, 2)\n",
        "plt.plot(history.history[\"accuracy\"])"
      ],
      "execution_count": 6,
      "outputs": [
        {
          "output_type": "execute_result",
          "data": {
            "text/plain": [
              "[<matplotlib.lines.Line2D at 0x7f7eb4354dd8>]"
            ]
          },
          "metadata": {
            "tags": []
          },
          "execution_count": 6
        },
        {
          "output_type": "display_data",
          "data": {
            "image/png": "[encoded data removed]",
            "text/plain": [
              "<Figure size 432x288 with 2 Axes>"
            ]
          },
          "metadata": {
            "tags": [],
            "needs_background": "light"
          }
        }
      ]
    },
    {
      "cell_type": "markdown",
      "metadata": {
        "id": "rf9be52LuIan"
      },
      "source": [
        "# K-Fold Validation"
      ]
    },
    {
      "cell_type": "code",
      "metadata": {
        "id": "W3gH9Ml4ycS2",
        "outputId": "4f0fbef1-c23d-4715-fc38-281b0b64653f",
        "colab": {
          "base_uri": "https://localhost:8080/"
        }
      },
      "source": [
        "from sklearn.model_selection import StratifiedKFold\n",
        "\n",
        "model = Sequential()\n",
        "model.add(Dense(16, input_shape=(4,), activation=\"relu\"))\n",
        "model.add(Dense(3, activation='softmax'))\n",
        "model.summary()\n",
        "model.compile(optimizer=\"adam\", loss=\"categorical_crossentropy\", metrics=\"accuracy\")\n",
        "\n",
        "skf = StratifiedKFold(n_splits=10, random_state=0, shuffle=True)\n",
        "for train_index, test_index in skf.split(X, y_pre):\n",
        "  X_train, X_test = X[train_index], X[test_index]\n",
        "  y_train, y_test = y_pre[train_index], y_pre[test_index]\n",
        "  y_train_ohe = np_utils.to_categorical(y_train)\n",
        "  y_test_ohe = np_utils.to_categorical(y_test)\n",
        "\n",
        "  model.fit(X_train, y_train_ohe, epochs=50, batch_size=10, verbose=0)\n",
        "  model.evaluate(X_test, y_test_ohe)\n",
        "  # score = model.evaluate(X_test, y_test_ohe)"
      ],
      "execution_count": 7,
      "outputs": [
        {
          "output_type": "stream",
          "text": [
            "Model: \"sequential_1\"\n",
            "_________________________________________________________________\n",
            "Layer (type)                 Output Shape              Param #   \n",
            "=================================================================\n",
            "dense_2 (Dense)              (None, 16)                80        \n",
            "_________________________________________________________________\n",
            "dense_3 (Dense)              (None, 3)                 51        \n",
            "=================================================================\n",
            "Total params: 131\n",
            "Trainable params: 131\n",
            "Non-trainable params: 0\n",
            "_________________________________________________________________\n",
            "1/1 [==============================] - 0s 2ms/step - loss: 0.2930 - accuracy: 1.0000\n",
            "1/1 [==============================] - 0s 1ms/step - loss: 0.1245 - accuracy: 1.0000\n",
            "1/1 [==============================] - 0s 1ms/step - loss: 0.0889 - accuracy: 1.0000\n",
            "1/1 [==============================] - 0s 2ms/step - loss: 0.1180 - accuracy: 1.0000\n",
            "1/1 [==============================] - 0s 2ms/step - loss: 0.0822 - accuracy: 0.9333\n",
            "1/1 [==============================] - 0s 1ms/step - loss: 0.1719 - accuracy: 0.8667\n",
            "1/1 [==============================] - 0s 1ms/step - loss: 0.2240 - accuracy: 0.8667\n",
            "1/1 [==============================] - 0s 1ms/step - loss: 0.0096 - accuracy: 1.0000\n",
            "1/1 [==============================] - 0s 2ms/step - loss: 0.0260 - accuracy: 1.0000\n",
            "1/1 [==============================] - 0s 2ms/step - loss: 0.1662 - accuracy: 0.9333\n"
          ],
          "name": "stdout"
        }
      ]
    },
    {
      "cell_type": "markdown",
      "metadata": {
        "id": "pkW6MSNr6TyL"
      },
      "source": [
        "# Callback - checkpoint and early stoping"
      ]
    },
    {
      "cell_type": "code",
      "metadata": {
        "id": "de0N6Y0E7rNX",
        "outputId": "49ca3599-9fff-425d-e085-8bc15e7d7b0f",
        "colab": {
          "base_uri": "https://localhost:8080/",
          "height": 195
        }
      },
      "source": [
        "from keras.callbacks import ModelCheckpoint, EarlyStopping\n",
        "import os\n",
        "import pandas as pd\n",
        "\n",
        "df = pd.read_csv(\"wine.csv\", header=None)\n",
        "df.head()"
      ],
      "execution_count": 8,
      "outputs": [
        {
          "output_type": "execute_result",
          "data": {
            "text/html": [
              "<div>\n",
              "<style scoped>\n",
              "    .dataframe tbody tr th:only-of-type {\n",
              "        vertical-align: middle;\n",
              "    }\n",
              "\n",
              "    .dataframe tbody tr th {\n",
              "        vertical-align: top;\n",
              "    }\n",
              "\n",
              "    .dataframe thead th {\n",
              "        text-align: right;\n",
              "    }\n",
              "</style>\n",
              "<table border=\"1\" class=\"dataframe\">\n",
              "  <thead>\n",
              "    <tr style=\"text-align: right;\">\n",
              "      <th></th>\n",
              "      <th>0</th>\n",
              "      <th>1</th>\n",
              "      <th>2</th>\n",
              "      <th>3</th>\n",
              "      <th>4</th>\n",
              "      <th>5</th>\n",
              "      <th>6</th>\n",
              "      <th>7</th>\n",
              "      <th>8</th>\n",
              "      <th>9</th>\n",
              "      <th>10</th>\n",
              "      <th>11</th>\n",
              "      <th>12</th>\n",
              "    </tr>\n",
              "  </thead>\n",
              "  <tbody>\n",
              "    <tr>\n",
              "      <th>0</th>\n",
              "      <td>7.4</td>\n",
              "      <td>0.70</td>\n",
              "      <td>0.00</td>\n",
              "      <td>1.9</td>\n",
              "      <td>0.076</td>\n",
              "      <td>11.0</td>\n",
              "      <td>34.0</td>\n",
              "      <td>0.9978</td>\n",
              "      <td>3.51</td>\n",
              "      <td>0.56</td>\n",
              "      <td>9.4</td>\n",
              "      <td>5</td>\n",
              "      <td>1</td>\n",
              "    </tr>\n",
              "    <tr>\n",
              "      <th>1</th>\n",
              "      <td>7.8</td>\n",
              "      <td>0.88</td>\n",
              "      <td>0.00</td>\n",
              "      <td>2.6</td>\n",
              "      <td>0.098</td>\n",
              "      <td>25.0</td>\n",
              "      <td>67.0</td>\n",
              "      <td>0.9968</td>\n",
              "      <td>3.20</td>\n",
              "      <td>0.68</td>\n",
              "      <td>9.8</td>\n",
              "      <td>5</td>\n",
              "      <td>1</td>\n",
              "    </tr>\n",
              "    <tr>\n",
              "      <th>2</th>\n",
              "      <td>7.8</td>\n",
              "      <td>0.76</td>\n",
              "      <td>0.04</td>\n",
              "      <td>2.3</td>\n",
              "      <td>0.092</td>\n",
              "      <td>15.0</td>\n",
              "      <td>54.0</td>\n",
              "      <td>0.9970</td>\n",
              "      <td>3.26</td>\n",
              "      <td>0.65</td>\n",
              "      <td>9.8</td>\n",
              "      <td>5</td>\n",
              "      <td>1</td>\n",
              "    </tr>\n",
              "    <tr>\n",
              "      <th>3</th>\n",
              "      <td>11.2</td>\n",
              "      <td>0.28</td>\n",
              "      <td>0.56</td>\n",
              "      <td>1.9</td>\n",
              "      <td>0.075</td>\n",
              "      <td>17.0</td>\n",
              "      <td>60.0</td>\n",
              "      <td>0.9980</td>\n",
              "      <td>3.16</td>\n",
              "      <td>0.58</td>\n",
              "      <td>9.8</td>\n",
              "      <td>6</td>\n",
              "      <td>1</td>\n",
              "    </tr>\n",
              "    <tr>\n",
              "      <th>4</th>\n",
              "      <td>7.4</td>\n",
              "      <td>0.70</td>\n",
              "      <td>0.00</td>\n",
              "      <td>1.9</td>\n",
              "      <td>0.076</td>\n",
              "      <td>11.0</td>\n",
              "      <td>34.0</td>\n",
              "      <td>0.9978</td>\n",
              "      <td>3.51</td>\n",
              "      <td>0.56</td>\n",
              "      <td>9.4</td>\n",
              "      <td>5</td>\n",
              "      <td>1</td>\n",
              "    </tr>\n",
              "  </tbody>\n",
              "</table>\n",
              "</div>"
            ],
            "text/plain": [
              "     0     1     2    3      4     5     6       7     8     9    10  11  12\n",
              "0   7.4  0.70  0.00  1.9  0.076  11.0  34.0  0.9978  3.51  0.56  9.4   5   1\n",
              "1   7.8  0.88  0.00  2.6  0.098  25.0  67.0  0.9968  3.20  0.68  9.8   5   1\n",
              "2   7.8  0.76  0.04  2.3  0.092  15.0  54.0  0.9970  3.26  0.65  9.8   5   1\n",
              "3  11.2  0.28  0.56  1.9  0.075  17.0  60.0  0.9980  3.16  0.58  9.8   6   1\n",
              "4   7.4  0.70  0.00  1.9  0.076  11.0  34.0  0.9978  3.51  0.56  9.4   5   1"
            ]
          },
          "metadata": {
            "tags": []
          },
          "execution_count": 8
        }
      ]
    },
    {
      "cell_type": "code",
      "metadata": {
        "id": "oAOpaD7n__Av",
        "outputId": "418af0d9-4c9b-4aaa-f879-cc3fb8bc2a3f",
        "colab": {
          "base_uri": "https://localhost:8080/"
        }
      },
      "source": [
        "df.values"
      ],
      "execution_count": 9,
      "outputs": [
        {
          "output_type": "execute_result",
          "data": {
            "text/plain": [
              "array([[ 7.4 ,  0.7 ,  0.  , ...,  9.4 ,  5.  ,  1.  ],\n",
              "       [ 7.8 ,  0.88,  0.  , ...,  9.8 ,  5.  ,  1.  ],\n",
              "       [ 7.8 ,  0.76,  0.04, ...,  9.8 ,  5.  ,  1.  ],\n",
              "       ...,\n",
              "       [ 6.5 ,  0.24,  0.19, ...,  9.4 ,  6.  ,  0.  ],\n",
              "       [ 5.5 ,  0.29,  0.3 , ..., 12.8 ,  7.  ,  0.  ],\n",
              "       [ 6.  ,  0.21,  0.38, ..., 11.8 ,  6.  ,  0.  ]])"
            ]
          },
          "metadata": {
            "tags": []
          },
          "execution_count": 9
        }
      ]
    },
    {
      "cell_type": "code",
      "metadata": {
        "id": "hEte6QDLAETd"
      },
      "source": [
        "X, y = df.values[:, :12], df.values[:, 12]"
      ],
      "execution_count": 10,
      "outputs": []
    },
    {
      "cell_type": "code",
      "metadata": {
        "id": "0giTYZ1wAR6d",
        "outputId": "3997a157-0c36-4db1-8ec2-e950069ac46c",
        "colab": {
          "base_uri": "https://localhost:8080/"
        }
      },
      "source": [
        "model = Sequential()\n",
        "model.add(Dense(30, input_shape=(12,), activation=\"relu\"))\n",
        "model.add(Dense(12, activation=\"relu\"))\n",
        "model.add(Dense(8, activation=\"relu\"))\n",
        "model.add(Dense(1, activation='sigmoid'))\n",
        "model.summary()\n",
        "model.compile(optimizer=\"adam\", loss=\"binary_crossentropy\", metrics=\"accuracy\")\n",
        "\n",
        "# create directory to store model information\n",
        "MODEL_DIR = \"./model\"\n",
        "if not os.path.exists(MODEL_DIR):\n",
        "  os.mkdir(MODEL_DIR)\n",
        "modelpath = \"./model/{epoch:02d}-{val_loss:.4f}.hdf5\"\n",
        "\n",
        "checkpointer = ModelCheckpoint(filepath=modelpath, monitor=\"val_loss\", verbose=1, save_best_only=True)\n",
        "early_stopping_callback = EarlyStopping(monitor=\"val_loss\", patience=100)\n",
        "\n",
        "history = model.fit(X, y, validation_split=0.2, epochs=2000, batch_size=100, verbose=0, callbacks=[checkpointer, early_stopping_callback])"
      ],
      "execution_count": 11,
      "outputs": [
        {
          "output_type": "stream",
          "text": [
            "Model: \"sequential_2\"\n",
            "_________________________________________________________________\n",
            "Layer (type)                 Output Shape              Param #   \n",
            "=================================================================\n",
            "dense_4 (Dense)              (None, 30)                390       \n",
            "_________________________________________________________________\n",
            "dense_5 (Dense)              (None, 12)                372       \n",
            "_________________________________________________________________\n",
            "dense_6 (Dense)              (None, 8)                 104       \n",
            "_________________________________________________________________\n",
            "dense_7 (Dense)              (None, 1)                 9         \n",
            "=================================================================\n",
            "Total params: 875\n",
            "Trainable params: 875\n",
            "Non-trainable params: 0\n",
            "_________________________________________________________________\n",
            "\n",
            "Epoch 00001: val_loss improved from inf to 0.13800, saving model to ./model/01-0.1380.hdf5\n",
            "\n",
            "Epoch 00002: val_loss improved from 0.13800 to 0.11400, saving model to ./model/02-0.1140.hdf5\n",
            "\n",
            "Epoch 00003: val_loss did not improve from 0.11400\n",
            "\n",
            "Epoch 00004: val_loss did not improve from 0.11400\n",
            "\n",
            "Epoch 00005: val_loss did not improve from 0.11400\n",
            "\n",
            "Epoch 00006: val_loss improved from 0.11400 to 0.07784, saving model to ./model/06-0.0778.hdf5\n",
            "\n",
            "Epoch 00007: val_loss did not improve from 0.07784\n",
            "\n",
            "Epoch 00008: val_loss did not improve from 0.07784\n",
            "\n",
            "Epoch 00009: val_loss did not improve from 0.07784\n",
            "\n",
            "Epoch 00010: val_loss did not improve from 0.07784\n",
            "\n",
            "Epoch 00011: val_loss did not improve from 0.07784\n",
            "\n",
            "Epoch 00012: val_loss did not improve from 0.07784\n",
            "\n",
            "Epoch 00013: val_loss did not improve from 0.07784\n",
            "\n",
            "Epoch 00014: val_loss improved from 0.07784 to 0.06205, saving model to ./model/14-0.0621.hdf5\n",
            "\n",
            "Epoch 00015: val_loss did not improve from 0.06205\n",
            "\n",
            "Epoch 00016: val_loss did not improve from 0.06205\n",
            "\n",
            "Epoch 00017: val_loss did not improve from 0.06205\n",
            "\n",
            "Epoch 00018: val_loss improved from 0.06205 to 0.05290, saving model to ./model/18-0.0529.hdf5\n",
            "\n",
            "Epoch 00019: val_loss did not improve from 0.05290\n",
            "\n",
            "Epoch 00020: val_loss did not improve from 0.05290\n",
            "\n",
            "Epoch 00021: val_loss improved from 0.05290 to 0.04445, saving model to ./model/21-0.0444.hdf5\n",
            "\n",
            "Epoch 00022: val_loss did not improve from 0.04445\n",
            "\n",
            "Epoch 00023: val_loss did not improve from 0.04445\n",
            "\n",
            "Epoch 00024: val_loss did not improve from 0.04445\n",
            "\n",
            "Epoch 00025: val_loss did not improve from 0.04445\n",
            "\n",
            "Epoch 00026: val_loss improved from 0.04445 to 0.01413, saving model to ./model/26-0.0141.hdf5\n",
            "\n",
            "Epoch 00027: val_loss did not improve from 0.01413\n",
            "\n",
            "Epoch 00028: val_loss did not improve from 0.01413\n",
            "\n",
            "Epoch 00029: val_loss did not improve from 0.01413\n",
            "\n",
            "Epoch 00030: val_loss did not improve from 0.01413\n",
            "\n",
            "Epoch 00031: val_loss did not improve from 0.01413\n",
            "\n",
            "Epoch 00032: val_loss did not improve from 0.01413\n",
            "\n",
            "Epoch 00033: val_loss did not improve from 0.01413\n",
            "\n",
            "Epoch 00034: val_loss did not improve from 0.01413\n",
            "\n",
            "Epoch 00035: val_loss did not improve from 0.01413\n",
            "\n",
            "Epoch 00036: val_loss did not improve from 0.01413\n",
            "\n",
            "Epoch 00037: val_loss did not improve from 0.01413\n",
            "\n",
            "Epoch 00038: val_loss did not improve from 0.01413\n",
            "\n",
            "Epoch 00039: val_loss did not improve from 0.01413\n",
            "\n",
            "Epoch 00040: val_loss did not improve from 0.01413\n",
            "\n",
            "Epoch 00041: val_loss did not improve from 0.01413\n",
            "\n",
            "Epoch 00042: val_loss did not improve from 0.01413\n",
            "\n",
            "Epoch 00043: val_loss did not improve from 0.01413\n",
            "\n",
            "Epoch 00044: val_loss did not improve from 0.01413\n",
            "\n",
            "Epoch 00045: val_loss did not improve from 0.01413\n",
            "\n",
            "Epoch 00046: val_loss did not improve from 0.01413\n",
            "\n",
            "Epoch 00047: val_loss did not improve from 0.01413\n",
            "\n",
            "Epoch 00048: val_loss did not improve from 0.01413\n",
            "\n",
            "Epoch 00049: val_loss did not improve from 0.01413\n",
            "\n",
            "Epoch 00050: val_loss did not improve from 0.01413\n",
            "\n",
            "Epoch 00051: val_loss did not improve from 0.01413\n",
            "\n",
            "Epoch 00052: val_loss did not improve from 0.01413\n",
            "\n",
            "Epoch 00053: val_loss did not improve from 0.01413\n",
            "\n",
            "Epoch 00054: val_loss did not improve from 0.01413\n",
            "\n",
            "Epoch 00055: val_loss did not improve from 0.01413\n",
            "\n",
            "Epoch 00056: val_loss did not improve from 0.01413\n",
            "\n",
            "Epoch 00057: val_loss did not improve from 0.01413\n",
            "\n",
            "Epoch 00058: val_loss did not improve from 0.01413\n",
            "\n",
            "Epoch 00059: val_loss did not improve from 0.01413\n",
            "\n",
            "Epoch 00060: val_loss did not improve from 0.01413\n",
            "\n",
            "Epoch 00061: val_loss did not improve from 0.01413\n",
            "\n",
            "Epoch 00062: val_loss did not improve from 0.01413\n",
            "\n",
            "Epoch 00063: val_loss did not improve from 0.01413\n",
            "\n",
            "Epoch 00064: val_loss did not improve from 0.01413\n",
            "\n",
            "Epoch 00065: val_loss did not improve from 0.01413\n",
            "\n",
            "Epoch 00066: val_loss did not improve from 0.01413\n",
            "\n",
            "Epoch 00067: val_loss did not improve from 0.01413\n",
            "\n",
            "Epoch 00068: val_loss did not improve from 0.01413\n",
            "\n",
            "Epoch 00069: val_loss did not improve from 0.01413\n",
            "\n",
            "Epoch 00070: val_loss did not improve from 0.01413\n",
            "\n",
            "Epoch 00071: val_loss did not improve from 0.01413\n",
            "\n",
            "Epoch 00072: val_loss did not improve from 0.01413\n",
            "\n",
            "Epoch 00073: val_loss did not improve from 0.01413\n",
            "\n",
            "Epoch 00074: val_loss did not improve from 0.01413\n",
            "\n",
            "Epoch 00075: val_loss did not improve from 0.01413\n",
            "\n",
            "Epoch 00076: val_loss did not improve from 0.01413\n",
            "\n",
            "Epoch 00077: val_loss did not improve from 0.01413\n",
            "\n",
            "Epoch 00078: val_loss did not improve from 0.01413\n",
            "\n",
            "Epoch 00079: val_loss did not improve from 0.01413\n",
            "\n",
            "Epoch 00080: val_loss did not improve from 0.01413\n",
            "\n",
            "Epoch 00081: val_loss did not improve from 0.01413\n",
            "\n",
            "Epoch 00082: val_loss did not improve from 0.01413\n",
            "\n",
            "Epoch 00083: val_loss did not improve from 0.01413\n",
            "\n",
            "Epoch 00084: val_loss did not improve from 0.01413\n",
            "\n",
            "Epoch 00085: val_loss did not improve from 0.01413\n",
            "\n",
            "Epoch 00086: val_loss did not improve from 0.01413\n",
            "\n",
            "Epoch 00087: val_loss did not improve from 0.01413\n",
            "\n",
            "Epoch 00088: val_loss did not improve from 0.01413\n",
            "\n",
            "Epoch 00089: val_loss did not improve from 0.01413\n",
            "\n",
            "Epoch 00090: val_loss did not improve from 0.01413\n",
            "\n",
            "Epoch 00091: val_loss did not improve from 0.01413\n",
            "\n",
            "Epoch 00092: val_loss did not improve from 0.01413\n",
            "\n",
            "Epoch 00093: val_loss did not improve from 0.01413\n",
            "\n",
            "Epoch 00094: val_loss did not improve from 0.01413\n",
            "\n",
            "Epoch 00095: val_loss did not improve from 0.01413\n",
            "\n",
            "Epoch 00096: val_loss did not improve from 0.01413\n",
            "\n",
            "Epoch 00097: val_loss did not improve from 0.01413\n",
            "\n",
            "Epoch 00098: val_loss did not improve from 0.01413\n",
            "\n",
            "Epoch 00099: val_loss did not improve from 0.01413\n",
            "\n",
            "Epoch 00100: val_loss did not improve from 0.01413\n",
            "\n",
            "Epoch 00101: val_loss did not improve from 0.01413\n",
            "\n",
            "Epoch 00102: val_loss did not improve from 0.01413\n",
            "\n",
            "Epoch 00103: val_loss did not improve from 0.01413\n",
            "\n",
            "Epoch 00104: val_loss did not improve from 0.01413\n",
            "\n",
            "Epoch 00105: val_loss did not improve from 0.01413\n",
            "\n",
            "Epoch 00106: val_loss did not improve from 0.01413\n",
            "\n",
            "Epoch 00107: val_loss did not improve from 0.01413\n",
            "\n",
            "Epoch 00108: val_loss did not improve from 0.01413\n",
            "\n",
            "Epoch 00109: val_loss did not improve from 0.01413\n",
            "\n",
            "Epoch 00110: val_loss did not improve from 0.01413\n",
            "\n",
            "Epoch 00111: val_loss did not improve from 0.01413\n",
            "\n",
            "Epoch 00112: val_loss did not improve from 0.01413\n",
            "\n",
            "Epoch 00113: val_loss did not improve from 0.01413\n",
            "\n",
            "Epoch 00114: val_loss did not improve from 0.01413\n",
            "\n",
            "Epoch 00115: val_loss did not improve from 0.01413\n",
            "\n",
            "Epoch 00116: val_loss did not improve from 0.01413\n",
            "\n",
            "Epoch 00117: val_loss did not improve from 0.01413\n",
            "\n",
            "Epoch 00118: val_loss did not improve from 0.01413\n",
            "\n",
            "Epoch 00119: val_loss did not improve from 0.01413\n",
            "\n",
            "Epoch 00120: val_loss did not improve from 0.01413\n",
            "\n",
            "Epoch 00121: val_loss did not improve from 0.01413\n",
            "\n",
            "Epoch 00122: val_loss did not improve from 0.01413\n",
            "\n",
            "Epoch 00123: val_loss did not improve from 0.01413\n",
            "\n",
            "Epoch 00124: val_loss did not improve from 0.01413\n",
            "\n",
            "Epoch 00125: val_loss did not improve from 0.01413\n",
            "\n",
            "Epoch 00126: val_loss did not improve from 0.01413\n"
          ],
          "name": "stdout"
        }
      ]
    },
    {
      "cell_type": "code",
      "metadata": {
        "id": "t4GYvYiEFl-T",
        "outputId": "a401d431-142d-45c7-94d4-a91596e5e3ab",
        "colab": {
          "base_uri": "https://localhost:8080/",
          "height": 283
        }
      },
      "source": [
        "y_loss, y_vloss = history.history[\"loss\"], history.history[\"val_loss\"]\n",
        "y_accuracy, y_vacc = history.history[\"accuracy\"], history.history[\"val_accuracy\"]\n",
        "\n",
        "plt.subplot(2, 2, 1)\n",
        "plt.plot(y_loss)\n",
        "plt.subplot(2, 2, 2)\n",
        "plt.plot(y_vloss)\n",
        "plt.subplot(2, 2, 3)\n",
        "plt.plot(y_accuracy)\n",
        "plt.subplot(2, 2, 4)\n",
        "plt.plot(y_vacc)"
      ],
      "execution_count": 13,
      "outputs": [
        {
          "output_type": "execute_result",
          "data": {
            "text/plain": [
              "[<matplotlib.lines.Line2D at 0x7f7ea225a128>]"
            ]
          },
          "metadata": {
            "tags": []
          },
          "execution_count": 13
        },
        {
          "output_type": "display_data",
          "data": {
            "image/png": "[encoded data removed]",
            "text/plain": [
              "<Figure size 432x288 with 4 Axes>"
            ]
          },
          "metadata": {
            "tags": [],
            "needs_background": "light"
          }
        }
      ]
    },
    {
      "cell_type": "code",
      "metadata": {
        "id": "NEf3yaWWFNS5"
      },
      "source": [
        ""
      ],
      "execution_count": 13,
      "outputs": []
    }
  ]
}