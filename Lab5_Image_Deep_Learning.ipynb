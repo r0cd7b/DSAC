{
  "nbformat": 4,
  "nbformat_minor": 0,
  "metadata": {
    "kernelspec": {
      "display_name": "Python 3",
      "language": "python",
      "name": "python3"
    },
    "language_info": {
      "codemirror_mode": {
        "name": "ipython",
        "version": 3
      },
      "file_extension": ".py",
      "mimetype": "text/x-python",
      "name": "python",
      "nbconvert_exporter": "python",
      "pygments_lexer": "ipython3",
      "version": "3.6.8"
    },
    "colab": {
      "name": "Lab5_Image_Deep_Learning.ipynb",
      "provenance": [],
      "collapsed_sections": [],
      "include_colab_link": true
    },
    "accelerator": "GPU"
  },
  "cells": [
    {
      "cell_type": "markdown",
      "metadata": {
        "id": "view-in-github",
        "colab_type": "text"
      },
      "source": [
        "<a href=\"https://colab.research.google.com/github/r0cd7b/DSAC/blob/master/Lab5_Image_Deep_Learning.ipynb\" target=\"_parent\"><img src=\"https://colab.research.google.com/assets/colab-badge.svg\" alt=\"Open In Colab\"/></a>"
      ]
    },
    {
      "cell_type": "markdown",
      "metadata": {
        "id": "kkMOaHUS7u2h"
      },
      "source": [
        "# More examples on Deep Learning\n",
        "- from \"모두의 딥러닝\""
      ]
    },
    {
      "cell_type": "markdown",
      "metadata": {
        "id": "9XMThsva7u2j"
      },
      "source": [
        "## 16. CNN with Mnist datset"
      ]
    },
    {
      "cell_type": "code",
      "metadata": {
        "id": "syxAssk07u2k"
      },
      "source": [
        "from keras.datasets import mnist\n",
        "from keras.utils import np_utils\n",
        "from keras.models import Sequential\n",
        "from keras.layers import Dense, Embedding\n",
        "from keras.callbacks import ModelCheckpoint, EarlyStopping\n",
        "\n",
        "import numpy as np\n",
        "import sys\n",
        "import os\n",
        "import tensorflow as tf\n",
        "\n",
        "import pandas as pd\n",
        "import seaborn as sns\n",
        "import matplotlib.pyplot as plt\n",
        "%matplotlib inline\n",
        "import numpy as np"
      ],
      "execution_count": 1,
      "outputs": []
    },
    {
      "cell_type": "code",
      "metadata": {
        "id": "gdwzKdiB7u2s",
        "colab": {
          "base_uri": "https://localhost:8080/",
          "height": 335
        },
        "outputId": "5ae06681-50a0-412c-f997-1b6e5af42a52"
      },
      "source": [
        "# MNIST데이터셋 불러오기\n",
        "(X_train, Y_class_train), (X_test, Y_class_test) = mnist.load_data()\n",
        "\n",
        "print(\"학습셋 이미지 수 : %d 개\" % (X_train.shape[0]))\n",
        "print(\"테스트셋 이미지 수 : %d 개\" % (X_test.shape[0]))\n",
        "\n",
        "# 그래프로 확인\n",
        "import matplotlib.pyplot as plt\n",
        "plt.imshow(X_train[0], cmap='Greys')\n",
        "plt.show()"
      ],
      "execution_count": 2,
      "outputs": [
        {
          "output_type": "stream",
          "text": [
            "Downloading data from https://storage.googleapis.com/tensorflow/tf-keras-datasets/mnist.npz\n",
            "11493376/11490434 [==============================] - 0s 0us/step\n",
            "학습셋 이미지 수 : 60000 개\n",
            "테스트셋 이미지 수 : 10000 개\n"
          ],
          "name": "stdout"
        },
        {
          "output_type": "display_data",
          "data": {
            "image/png": "[encoded data removed]",
            "text/plain": [
              "<Figure size 432x288 with 1 Axes>"
            ]
          },
          "metadata": {
            "tags": [],
            "needs_background": "light"
          }
        }
      ]
    },
    {
      "cell_type": "code",
      "metadata": {
        "id": "W6BELGP-7u2x",
        "colab": {
          "base_uri": "https://localhost:8080/"
        },
        "outputId": "f9f5a59d-51e8-4d9f-a391-1ece3e7847dd"
      },
      "source": [
        "# 코드로 확인\n",
        "X_train.shape, Y_class_train.shape"
      ],
      "execution_count": 3,
      "outputs": [
        {
          "output_type": "execute_result",
          "data": {
            "text/plain": [
              "((60000, 28, 28), (60000,))"
            ]
          },
          "metadata": {
            "tags": []
          },
          "execution_count": 3
        }
      ]
    },
    {
      "cell_type": "code",
      "metadata": {
        "id": "mBRiWsZk7u22",
        "colab": {
          "base_uri": "https://localhost:8080/"
        },
        "outputId": "1ccae6ac-7b86-42ee-d1f8-012142f0c570"
      },
      "source": [
        "# 차원 변환 과정\n",
        "X_train = X_train.reshape(X_train.shape[0], 784).astype('float64') / 255\n",
        "X_test  = X_test.reshape(X_test.shape[0], 784).astype('float64')  / 255\n",
        "\n",
        "# 바이너리화 과정\n",
        "Y_train = np_utils.to_categorical(Y_class_train, 10)\n",
        "Y_test = np_utils.to_categorical(Y_class_test, 10)\n",
        "\n",
        "# X_train[0], Y_train[0]\n",
        "X_train.shape, Y_train.shape"
      ],
      "execution_count": 4,
      "outputs": [
        {
          "output_type": "execute_result",
          "data": {
            "text/plain": [
              "((60000, 784), (60000, 10))"
            ]
          },
          "metadata": {
            "tags": []
          },
          "execution_count": 4
        }
      ]
    },
    {
      "cell_type": "code",
      "metadata": {
        "id": "rtr3UalS7u28",
        "colab": {
          "base_uri": "https://localhost:8080/",
          "height": 1000
        },
        "outputId": "d805f870-f2ad-4853-f5c9-0f1fce7644e1"
      },
      "source": [
        "# 모델 프레임 설정\n",
        "model = Sequential()\n",
        "model.add(Dense(512, input_dim=784, activation='relu'))\n",
        "model.add(Dense(10, activation='softmax'))\n",
        "\n",
        "# 모델 실행 환경 설정\n",
        "model.compile(loss='categorical_crossentropy',\n",
        "              optimizer='adam',\n",
        "              metrics=['accuracy'])\n",
        "\n",
        "# 모델 최적화 설정\n",
        "MODEL_DIR = './mnist_model/'\n",
        "if not os.path.exists(MODEL_DIR):\n",
        "    os.mkdir(MODEL_DIR)\n",
        "\n",
        "modelpath=\"./mnist_model/{epoch:02d}-{val_loss:.4f}.hdf5\"\n",
        "checkpointer = ModelCheckpoint(filepath=modelpath, monitor='val_loss', verbose=1, save_best_only=True)\n",
        "early_stopping_callback = EarlyStopping(monitor='val_loss', patience=10)\n",
        "\n",
        "# 모델의 실행\n",
        "history = model.fit(X_train, Y_train, validation_data=(X_test, Y_test), \n",
        "                    epochs=30, batch_size=200, verbose=0, \n",
        "                    callbacks=[early_stopping_callback, checkpointer])\n",
        "\n",
        "# 테스트 정확도 출력\n",
        "print(\"\\n Test Accuracy: %.4f\" % (model.evaluate(X_test, Y_test)[1]))\n",
        "\n",
        "# 학습 및 테스트 셋의 오차\n",
        "y_vloss = history.history['val_loss']\n",
        "y_loss = history.history['loss']\n",
        "\n",
        "# 그래프로 표현\n",
        "x_len = np.arange(len(y_loss))\n",
        "plt.plot(x_len, y_vloss, marker='.', c=\"red\", label='Testset_loss')\n",
        "plt.plot(x_len, y_loss, marker='.', c=\"blue\", label='Trainset_loss')\n",
        "\n",
        "# 그래프에 그리드를 주고 레이블을 표시\n",
        "plt.legend(loc='upper right')\n",
        "# plt.axis([0, 20, 0, 0.35])\n",
        "plt.grid()\n",
        "plt.xlabel('epoch')\n",
        "plt.ylabel('loss')\n",
        "plt.show()\n"
      ],
      "execution_count": 5,
      "outputs": [
        {
          "output_type": "stream",
          "text": [
            "\n",
            "Epoch 00001: val_loss improved from inf to 0.14823, saving model to ./mnist_model/01-0.1482.hdf5\n",
            "\n",
            "Epoch 00002: val_loss improved from 0.14823 to 0.11088, saving model to ./mnist_model/02-0.1109.hdf5\n",
            "\n",
            "Epoch 00003: val_loss improved from 0.11088 to 0.08371, saving model to ./mnist_model/03-0.0837.hdf5\n",
            "\n",
            "Epoch 00004: val_loss improved from 0.08371 to 0.07234, saving model to ./mnist_model/04-0.0723.hdf5\n",
            "\n",
            "Epoch 00005: val_loss improved from 0.07234 to 0.06839, saving model to ./mnist_model/05-0.0684.hdf5\n",
            "\n",
            "Epoch 00006: val_loss improved from 0.06839 to 0.06215, saving model to ./mnist_model/06-0.0621.hdf5\n",
            "\n",
            "Epoch 00007: val_loss did not improve from 0.06215\n",
            "\n",
            "Epoch 00008: val_loss improved from 0.06215 to 0.06202, saving model to ./mnist_model/08-0.0620.hdf5\n",
            "\n",
            "Epoch 00009: val_loss improved from 0.06202 to 0.05990, saving model to ./mnist_model/09-0.0599.hdf5\n",
            "\n",
            "Epoch 00010: val_loss did not improve from 0.05990\n",
            "\n",
            "Epoch 00011: val_loss did not improve from 0.05990\n",
            "\n",
            "Epoch 00012: val_loss did not improve from 0.05990\n",
            "\n",
            "Epoch 00013: val_loss improved from 0.05990 to 0.05988, saving model to ./mnist_model/13-0.0599.hdf5\n",
            "\n",
            "Epoch 00014: val_loss did not improve from 0.05988\n",
            "\n",
            "Epoch 00015: val_loss did not improve from 0.05988\n",
            "\n",
            "Epoch 00016: val_loss did not improve from 0.05988\n",
            "\n",
            "Epoch 00017: val_loss did not improve from 0.05988\n",
            "\n",
            "Epoch 00018: val_loss did not improve from 0.05988\n",
            "\n",
            "Epoch 00019: val_loss did not improve from 0.05988\n",
            "\n",
            "Epoch 00020: val_loss did not improve from 0.05988\n",
            "\n",
            "Epoch 00021: val_loss did not improve from 0.05988\n",
            "\n",
            "Epoch 00022: val_loss did not improve from 0.05988\n",
            "\n",
            "Epoch 00023: val_loss did not improve from 0.05988\n",
            "313/313 [==============================] - 1s 2ms/step - loss: 0.0708 - accuracy: 0.9828\n",
            "\n",
            " Test Accuracy: 0.9828\n"
          ],
          "name": "stdout"
        },
        {
          "output_type": "display_data",
          "data": {
            "image/png": "[encoded data removed]",
            "text/plain": [
              "<Figure size 432x288 with 1 Axes>"
            ]
          },
          "metadata": {
            "tags": [],
            "needs_background": "light"
          }
        }
      ]
    },
    {
      "cell_type": "markdown",
      "metadata": {
        "id": "j0Nxgr067u3E"
      },
      "source": [
        "#### Using CNN model"
      ]
    },
    {
      "cell_type": "code",
      "metadata": {
        "id": "juaqam0d7u3H"
      },
      "source": [
        "from keras.datasets import mnist\n",
        "from keras.utils import np_utils\n",
        "from keras.models import Sequential\n",
        "from keras.layers import Dense, Dropout, Flatten, Conv2D, MaxPooling2D\n",
        "from keras.callbacks import ModelCheckpoint,EarlyStopping\n",
        "\n",
        "(X_train, Y_train), (X_test, Y_test) = mnist.load_data()\n",
        "X_train = X_train.reshape(X_train.shape[0], 28, 28, 1).astype('float32') / 255\n",
        "X_test = X_test.reshape(X_test.shape[0], 28, 28, 1).astype('float32') / 255\n",
        "Y_train = np_utils.to_categorical(Y_train)\n",
        "Y_test = np_utils.to_categorical(Y_test)"
      ],
      "execution_count": 6,
      "outputs": []
    },
    {
      "cell_type": "code",
      "metadata": {
        "id": "3QCxLkCO7u3O",
        "colab": {
          "base_uri": "https://localhost:8080/"
        },
        "outputId": "10eda9fa-1892-4ab8-9352-7012b16f0b6f"
      },
      "source": [
        "X_train.shape, Y_train.shape"
      ],
      "execution_count": 7,
      "outputs": [
        {
          "output_type": "execute_result",
          "data": {
            "text/plain": [
              "((60000, 28, 28, 1), (60000, 10))"
            ]
          },
          "metadata": {
            "tags": []
          },
          "execution_count": 7
        }
      ]
    },
    {
      "cell_type": "code",
      "metadata": {
        "id": "4qpAVjKJ7u3U",
        "colab": {
          "base_uri": "https://localhost:8080/"
        },
        "outputId": "1a9e4baf-18d3-4e86-a070-75bb2c3b1059"
      },
      "source": [
        "# 컨볼루션 신경망의 설정\n",
        "model = Sequential()\n",
        "model.add(Conv2D(32, kernel_size=(3, 3), input_shape=(28, 28, 1), activation='relu'))\n",
        "model.add(Conv2D(64, (3, 3), activation='relu'))\n",
        "model.add(MaxPooling2D(pool_size=2))\n",
        "model.add(Dropout(0.25))\n",
        "model.add(Flatten())\n",
        "model.add(Dense(128,  activation='relu'))\n",
        "model.add(Dropout(0.5))\n",
        "model.add(Dense(10, activation='softmax'))\n",
        "model.summary()\n"
      ],
      "execution_count": 8,
      "outputs": [
        {
          "output_type": "stream",
          "text": [
            "Model: \"sequential_1\"\n",
            "_________________________________________________________________\n",
            "Layer (type)                 Output Shape              Param #   \n",
            "=================================================================\n",
            "conv2d (Conv2D)              (None, 26, 26, 32)        320       \n",
            "_________________________________________________________________\n",
            "conv2d_1 (Conv2D)            (None, 24, 24, 64)        18496     \n",
            "_________________________________________________________________\n",
            "max_pooling2d (MaxPooling2D) (None, 12, 12, 64)        0         \n",
            "_________________________________________________________________\n",
            "dropout (Dropout)            (None, 12, 12, 64)        0         \n",
            "_________________________________________________________________\n",
            "flatten (Flatten)            (None, 9216)              0         \n",
            "_________________________________________________________________\n",
            "dense_2 (Dense)              (None, 128)               1179776   \n",
            "_________________________________________________________________\n",
            "dropout_1 (Dropout)          (None, 128)               0         \n",
            "_________________________________________________________________\n",
            "dense_3 (Dense)              (None, 10)                1290      \n",
            "=================================================================\n",
            "Total params: 1,199,882\n",
            "Trainable params: 1,199,882\n",
            "Non-trainable params: 0\n",
            "_________________________________________________________________\n"
          ],
          "name": "stdout"
        }
      ]
    },
    {
      "cell_type": "code",
      "metadata": {
        "id": "PgrDk1QIAaTo"
      },
      "source": [
        "import os\n",
        "model.compile(loss='categorical_crossentropy',\n",
        "              optimizer='adam',\n",
        "              metrics=['accuracy'])\n",
        "\n",
        "# 모델 최적화 설정\n",
        "MODEL_DIR = './mnist_cnn_model/'\n",
        "if not os.path.exists(MODEL_DIR):\n",
        "    os.mkdir(MODEL_DIR)\n",
        "\n",
        "modelpath=\"./mnist_cnn_model/{epoch:02d}-{val_loss:.4f}.hdf5\"\n",
        "checkpointer = ModelCheckpoint(filepath=modelpath, monitor='val_loss', verbose=1, save_best_only=True)\n",
        "early_stopping_callback = EarlyStopping(monitor='val_loss', patience=10)"
      ],
      "execution_count": 9,
      "outputs": []
    },
    {
      "cell_type": "code",
      "metadata": {
        "id": "1HaP9ZWd7u3Y",
        "colab": {
          "base_uri": "https://localhost:8080/"
        },
        "outputId": "8cad3747-39b2-42bd-a949-c1120632c3bc"
      },
      "source": [
        "# 모델의 실행\n",
        "history = model.fit(X_train, Y_train, validation_data=(X_test, Y_test), \n",
        "                    epochs=30, batch_size=200, verbose=0, \n",
        "                    callbacks=[early_stopping_callback,checkpointer])\n",
        "\n",
        "# 테스트 정확도 출력\n",
        "print(\"\\n Test Accuracy: %.4f\" % (model.evaluate(X_test, Y_test)[1]))"
      ],
      "execution_count": null,
      "outputs": [
        {
          "output_type": "stream",
          "text": [
            "WARNING:tensorflow:Callbacks method `on_train_batch_end` is slow compared to the batch time (batch time: 0.0029s vs `on_train_batch_end` time: 0.0096s). Check your callbacks.\n",
            "\n",
            "Epoch 00001: val_loss improved from inf to 0.06698, saving model to ./mnist_cnn_model/01-0.0670.hdf5\n",
            "\n",
            "Epoch 00002: val_loss improved from 0.06698 to 0.03849, saving model to ./mnist_cnn_model/02-0.0385.hdf5\n",
            "\n",
            "Epoch 00003: val_loss improved from 0.03849 to 0.03361, saving model to ./mnist_cnn_model/03-0.0336.hdf5\n",
            "\n",
            "Epoch 00004: val_loss improved from 0.03361 to 0.02999, saving model to ./mnist_cnn_model/04-0.0300.hdf5\n",
            "\n",
            "Epoch 00005: val_loss improved from 0.02999 to 0.02719, saving model to ./mnist_cnn_model/05-0.0272.hdf5\n",
            "\n",
            "Epoch 00006: val_loss improved from 0.02719 to 0.02693, saving model to ./mnist_cnn_model/06-0.0269.hdf5\n",
            "\n",
            "Epoch 00007: val_loss did not improve from 0.02693\n"
          ],
          "name": "stdout"
        }
      ]
    },
    {
      "cell_type": "code",
      "metadata": {
        "id": "iHudnYaS7u3d"
      },
      "source": [
        "import numpy as np\n",
        "# 오차\n",
        "y_vloss = history.history['val_loss']\n",
        "y_loss = history.history['loss']\n",
        "\n",
        "# 그래프로 표현\n",
        "x_len = np.arange(len(y_loss))\n",
        "plt.plot(x_len, y_vloss, marker='.', c=\"red\", label='Testset_loss')\n",
        "plt.plot(x_len, y_loss, marker='.', c=\"blue\", label='Trainset_loss')\n",
        "\n",
        "# 그래프에 그리드를 주고 레이블을 표시\n",
        "plt.legend(loc='upper right')\n",
        "plt.grid()\n",
        "plt.xlabel('epoch')\n",
        "plt.ylabel('loss')\n",
        "plt.show()"
      ],
      "execution_count": null,
      "outputs": []
    },
    {
      "cell_type": "markdown",
      "metadata": {
        "id": "1VASRZ7K7u3h"
      },
      "source": [
        "## 2. RNN with Reuters dataset"
      ]
    },
    {
      "cell_type": "markdown",
      "metadata": {
        "id": "DnzleueBJLAN"
      },
      "source": [
        "# for exercise\n",
        "- v = Embedding(20001 ,256, input_length=500)\n",
        "  - input_dim: Integer. Size of the vocabulary, i.e. maximum integer index + 1.\n",
        "  - output_dim: Integer. Dimension of the dense embedding.\n",
        "  - input_length: Length of input sequences, when it is constant. This argument is required if you are going to connect Flatten then Dense layers upstream (without it, the shape of the dense outputs cannot be computed).\n",
        "- shape:\n",
        "  - Input shape: 2D tensor with shape: (batch_size, input_length)\n",
        "  - Output shape: 3D tensor with shape: (batch_size, input_length, output_dim).\n",
        "\n",
        "- 임베딩 층은 다음과 같은 세 개의 인자를 받는다.\n",
        "  - 첫번째 인자 : 텍스트 데이터의 전체 단어 집합의 크기다. 만약 갖고 있는 데이터의 단어들이 인코딩이 0부터 20,000까지 되었다면 단어 집합의 크기는 20,001이 되어야 한다. (인덱스에 주의)\n",
        "  - 두번째 인자 : 임베딩이 되고 난 후의 단어의 차원이다. 만약, 이 값을 256으로 준다면 모든 단어의 차원이 256이 된다.\n",
        "  - input_length : 입력 시퀀스의 길이다. 만약 갖고 있는 각 데이터의 길이가 500개의 단어로 구성되어있다면 이 값은 500이 된다.\n",
        "- Turns positive integers (indexes) into dense vectors of fixed size.\n",
        "e.g. [[4], [20]] -> [[0.25, 0.1], [0.6, -0.2]]"
      ]
    },
    {
      "cell_type": "code",
      "metadata": {
        "id": "o4jhuqwoKL0a"
      },
      "source": [
        "# example\n",
        "from keras.preprocessing.text import Tokenizer\n",
        "from keras.preprocessing.sequence import pad_sequences\n",
        "sentence = ['멋있어 최고야 짱이다 감탄이다 우와', '헛소리 지껄이네', '닥쳐 자식아', \n",
        "            '우와 대단하다', '우수한 성적', '형편없다', '최상의 퀄리티 멋있어']\n",
        "y_train = [1, 0, 0, 1, 1, 0, 1]    # positive(1) or negative(0)\n",
        "t = Tokenizer()\n",
        "t.fit_on_texts(sentence)"
      ],
      "execution_count": null,
      "outputs": []
    },
    {
      "cell_type": "code",
      "metadata": {
        "id": "OedTDiDkKzyR"
      },
      "source": [
        "t.word_index"
      ],
      "execution_count": null,
      "outputs": []
    },
    {
      "cell_type": "code",
      "metadata": {
        "id": "TzkSwvUdLVwD"
      },
      "source": [
        "t.texts_to_sequences(sentence)"
      ],
      "execution_count": null,
      "outputs": []
    },
    {
      "cell_type": "code",
      "metadata": {
        "id": "CwVq7Z5JKx3V"
      },
      "source": [
        "vocab_size = len(t.word_index)+1\n",
        "x_encoded = t.texts_to_sequences(sentence)\n",
        "max_length = max(len(i) for i in x_encoded)\n",
        "print(max_length)\n",
        "x_padded = pad_sequences(x_encoded, maxlen=max_length, padding='post')\n",
        "print(x_padded)"
      ],
      "execution_count": null,
      "outputs": []
    },
    {
      "cell_type": "code",
      "metadata": {
        "id": "EVlK3_E2MUHW"
      },
      "source": [
        "# embedding(): input shape : (input_dim, output_dim, [input_length])\n",
        "#                           input_length: Length of input sequences, when it is constant. This argument is required \n",
        "#                           if you are going to connect Flatten then Dense layers upstream (without it, the shape of \n",
        "#                           the dense outputs cannot be computed).\n",
        "#              output shape : (batch_size, input_length, output_dim)\n",
        "\n",
        "\n",
        "model = Sequential()\n",
        "model.add(Embedding(vocab_size, 4, input_length=max_length))\n",
        "# 모든 임베딩 벡터는 4차원을 가지게 됨.\n",
        "model.add(Flatten()) # Dense의 입력으로 넣기 위함임.\n",
        "model.add(Dense(1, activation='sigmoid'))\n",
        "model.summary()"
      ],
      "execution_count": null,
      "outputs": []
    },
    {
      "cell_type": "code",
      "metadata": {
        "id": "afbW3BRC7u3i"
      },
      "source": [
        "# 로이터 뉴스 데이터셋 불러오기\n",
        "from keras.datasets import reuters\n",
        "from keras.models import Sequential\n",
        "from keras.layers import Dense, LSTM, Embedding\n",
        "from keras import preprocessing\n",
        "from keras.utils import np_utils\n",
        "\n",
        "import numpy as np\n",
        "import tensorflow as tf\n",
        "import matplotlib.pyplot as plt\n"
      ],
      "execution_count": null,
      "outputs": []
    },
    {
      "cell_type": "code",
      "metadata": {
        "id": "EOErF-0eCT_8"
      },
      "source": [
        "# 불러온 데이터를 학습셋, 테스트셋으로 나누기\n",
        "(X_train, Y_train), (X_test, Y_test) = reuters.load_data(num_words=1000, test_split=0.2)\n",
        "\n",
        "# 데이터 확인하기\n",
        "\n",
        "category = np.max(Y_train) + 1\n",
        "print(category, '카테고리')\n",
        "print(len(X_train), '학습용 뉴스 기사')\n",
        "print(len(X_test), '테스트용 뉴스 기사')\n",
        "print(X_train[0])\n",
        "[len(X_train[i]) for i in range(10)]"
      ],
      "execution_count": null,
      "outputs": []
    },
    {
      "cell_type": "markdown",
      "metadata": {
        "id": "uoY_MDheCyDe"
      },
      "source": [
        "- 딥러닝은 단어 대신 숫자를 데이터로 요구함. 역서는 해당 단어가 데이터 안에서 몇 번이나 사용되었는지\n",
        "- 빈도에 따라 번호를 붙임.  -> tokenizer 함수 필요\n",
        "- keras 는 이미 이 작업이 수행된 상태임.\n",
        "- num_words = 1000: 빈도가 1~1000 에 해당하는 단어만 선택해서 불러옴\n",
        "- 각 기사의 단어 수가 각각 다르므로 단어의 수를 맞춰 주어야 함. (전처리 함수 sequence 사용) : 100보다 크면 100개만, 적으면 0 으로 패딩."
      ]
    },
    {
      "cell_type": "code",
      "metadata": {
        "id": "HfYctliVCEKV"
      },
      "source": [
        "# \n",
        "# 데이터 전처리\n",
        "x_train = preprocessing.sequence.pad_sequences(X_train, maxlen=100)\n",
        "x_test = preprocessing.sequence.pad_sequences(X_test, maxlen=100)\n",
        "y_train = np_utils.to_categorical(Y_train)\n",
        "y_test = np_utils.to_categorical(Y_test)\n",
        "print(x_train.shape, y_train.shape)\n",
        "[len(x_train[i]) for i in range(10)]"
      ],
      "execution_count": null,
      "outputs": []
    },
    {
      "cell_type": "code",
      "metadata": {
        "id": "u2Q6xrlyFSUK"
      },
      "source": [
        "# 모델의 설정\n",
        "# Embedding(불러온 단어의 총갯수, 기사당 단어수) -> 단어벡터 생성\n",
        "model = Sequential()\n",
        "model.add(Embedding(1000, 100))\n",
        "model.add(LSTM(100, activation='tanh'))\n",
        "model.add(Dense(46, activation='softmax'))\n",
        "\n",
        "# 모델의 컴파일\n",
        "model.compile(loss='categorical_crossentropy',\n",
        "            optimizer='adam',\n",
        "            metrics=['accuracy'])\n",
        "\n",
        "# 모델의 실행\n",
        "history = model.fit(x_train, y_train, batch_size=100, epochs=20, validation_data=(x_test, y_test))\n",
        "\n",
        "# 테스트 정확도 출력\n",
        "print(\"\\n Test Accuracy: %.4f\" % (model.evaluate(x_test, y_test)[1]))\n",
        "\n",
        "\n",
        "# 테스트 셋의 오차\n",
        "y_vloss = history.history['val_loss']\n",
        "\n",
        "# 학습셋의 오차\n",
        "y_loss = history.history['loss']\n",
        "\n",
        "# 그래프로 표현\n",
        "x_len = numpy.arange(len(y_loss))\n",
        "plt.plot(x_len, y_vloss, marker='.', c=\"red\", label='Testset_loss')\n",
        "plt.plot(x_len, y_loss, marker='.', c=\"blue\", label='Trainset_loss')\n",
        "\n",
        "# 그래프에 그리드를 주고 레이블을 표시\n",
        "plt.legend(loc='upper right')\n",
        "plt.grid()\n",
        "plt.xlabel('epoch')\n",
        "plt.ylabel('loss')\n",
        "plt.show()"
      ],
      "execution_count": null,
      "outputs": []
    },
    {
      "cell_type": "markdown",
      "metadata": {
        "id": "8dyNqg49YoEq"
      },
      "source": [
        "## 3. RNN with IMDB dataset"
      ]
    },
    {
      "cell_type": "code",
      "metadata": {
        "id": "HV8BdXUGYlnS"
      },
      "source": [
        "from keras.preprocessing import sequence\n",
        "from keras.models import Sequential\n",
        "from keras.layers import Dense, Dropout, Activation\n",
        "from keras.layers import Embedding\n",
        "\n",
        "from keras.layers import LSTM\n",
        "from keras.layers import Conv1D, MaxPooling1D\n",
        "from keras.datasets import imdb\n",
        "\n",
        "import numpy\n",
        "import tensorflow as tf\n",
        "import matplotlib.pyplot as plt\n"
      ],
      "execution_count": null,
      "outputs": []
    },
    {
      "cell_type": "code",
      "metadata": {
        "id": "V7Br5mx5Y2b2"
      },
      "source": [
        "# 학습셋, 테스트셋 지정하기\n",
        "(x_train, y_train), (x_test, y_test) = imdb.load_data(num_words=5000)\n",
        "\n",
        "# 데이터 전처리\n",
        "x_train = sequence.pad_sequences(x_train, maxlen=100)\n",
        "x_test = sequence.pad_sequences(x_test, maxlen=100)\n",
        "\n",
        "# 모델의 설정\n",
        "model = Sequential()\n",
        "model.add(Embedding(5000, 100))\n",
        "model.add(Dropout(0.5))\n",
        "model.add(Conv1D(64, 5, padding='valid', activation='relu',strides=1))\n",
        "model.add(MaxPooling1D(pool_size=4))\n",
        "model.add(LSTM(55))\n",
        "model.add(Dense(1))\n",
        "model.add(Activation('sigmoid'))\n",
        "model.summary()\n",
        "\n",
        "# 모델의 컴파일\n",
        "model.compile(loss='binary_crossentropy',\n",
        "              optimizer='adam',\n",
        "              metrics=['accuracy'])\n",
        "\n",
        "# 모델의 실행\n",
        "history = model.fit(x_train, y_train, batch_size=100, epochs=5, validation_data=(x_test, y_test))\n",
        "\n",
        "# 테스트 정확도 출력\n",
        "print(\"\\n Test Accuracy: %.4f\" % (model.evaluate(x_test, y_test)[1]))\n",
        "\n",
        "\n",
        "# 테스트 셋의 오차\n",
        "y_vloss = history.history['val_loss']\n",
        "\n",
        "# 학습셋의 오차\n",
        "y_loss = history.history['loss']\n",
        "\n",
        "# 그래프로 표현\n",
        "x_len = numpy.arange(len(y_loss))\n",
        "plt.plot(x_len, y_vloss, marker='.', c=\"red\", label='Testset_loss')\n",
        "plt.plot(x_len, y_loss, marker='.', c=\"blue\", label='Trainset_loss')\n",
        "\n",
        "# 그래프에 그리드를 주고 레이블을 표시\n",
        "plt.legend(loc='upper right')\n",
        "plt.grid()\n",
        "plt.xlabel('epoch')\n",
        "plt.ylabel('loss')\n",
        "plt.show()"
      ],
      "execution_count": null,
      "outputs": []
    },
    {
      "cell_type": "markdown",
      "metadata": {
        "id": "efJt0RS0BcG5"
      },
      "source": [
        "# Exercise (연습)"
      ]
    },
    {
      "cell_type": "code",
      "metadata": {
        "id": "PmLxCvzTBeUw"
      },
      "source": [
        "model = tf.keras.Sequential()\n",
        "model.add(tf.keras.layers.Embedding(1000, 64, input_length=10))\n",
        "# The model will take as input an integer matrix of size (batch,input_length), and \n",
        "# the largest integer (i.e. word index) in the input  \n",
        "# should be no larger than 999 (vocabulary size).  \n",
        "# Now model.output_shape is (None, 10, 64), where `None` is the batch  \n",
        "# dimension.  \n",
        "input_array = np.random.randint(1000, size=(100, 10))\n",
        "model.compile('rmsprop', 'mse')\n",
        "output_array = model.predict(input_array)\n",
        "print(output_array.shape)"
      ],
      "execution_count": null,
      "outputs": []
    }
  ]
}