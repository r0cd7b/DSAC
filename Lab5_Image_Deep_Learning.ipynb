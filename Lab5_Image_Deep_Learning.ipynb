{
  "nbformat": 4,
  "nbformat_minor": 0,
  "metadata": {
    "kernelspec": {
      "display_name": "Python 3",
      "language": "python",
      "name": "python3"
    },
    "language_info": {
      "codemirror_mode": {
        "name": "ipython",
        "version": 3
      },
      "file_extension": ".py",
      "mimetype": "text/x-python",
      "name": "python",
      "nbconvert_exporter": "python",
      "pygments_lexer": "ipython3",
      "version": "3.6.8"
    },
    "colab": {
      "name": "Lab5_Image_Deep_Learning.ipynb",
      "provenance": [],
      "collapsed_sections": [],
      "include_colab_link": true
    },
    "accelerator": "GPU"
  },
  "cells": [
    {
      "cell_type": "markdown",
      "metadata": {
        "id": "view-in-github",
        "colab_type": "text"
      },
      "source": [
        "<a href=\"https://colab.research.google.com/github/r0cd7b/DSAC/blob/master/Lab5_Image_Deep_Learning.ipynb\" target=\"_parent\"><img src=\"https://colab.research.google.com/assets/colab-badge.svg\" alt=\"Open In Colab\"/></a>"
      ]
    },
    {
      "cell_type": "markdown",
      "metadata": {
        "id": "kkMOaHUS7u2h"
      },
      "source": [
        "# More examples on Deep Learning\n",
        "- from \"모두의 딥러닝\""
      ]
    },
    {
      "cell_type": "markdown",
      "metadata": {
        "id": "9XMThsva7u2j"
      },
      "source": [
        "## 16. CNN with Mnist datset"
      ]
    },
    {
      "cell_type": "code",
      "metadata": {
        "id": "syxAssk07u2k"
      },
      "source": [
        "from keras.datasets import mnist\n",
        "from keras.utils import np_utils\n",
        "from keras.models import Sequential\n",
        "from keras.layers import Dense, Embedding\n",
        "from keras.callbacks import ModelCheckpoint, EarlyStopping\n",
        "\n",
        "import numpy as np\n",
        "import sys\n",
        "import os\n",
        "import tensorflow as tf\n",
        "\n",
        "import pandas as pd\n",
        "import seaborn as sns\n",
        "import matplotlib.pyplot as plt\n",
        "%matplotlib inline\n",
        "import numpy as np"
      ],
      "execution_count": 1,
      "outputs": []
    },
    {
      "cell_type": "code",
      "metadata": {
        "id": "gdwzKdiB7u2s",
        "colab": {
          "base_uri": "https://localhost:8080/",
          "height": 300
        },
        "outputId": "4f1b5f83-11b2-4a92-80a4-84f56658a3aa"
      },
      "source": [
        "# MNIST데이터셋 불러오기\n",
        "(X_train, Y_class_train), (X_test, Y_class_test) = mnist.load_data()\n",
        "\n",
        "print(\"학습셋 이미지 수 : %d 개\" % (X_train.shape[0]))\n",
        "print(\"테스트셋 이미지 수 : %d 개\" % (X_test.shape[0]))\n",
        "\n",
        "# 그래프로 확인\n",
        "import matplotlib.pyplot as plt\n",
        "plt.imshow(X_train[0], cmap='Greys')\n",
        "plt.show()"
      ],
      "execution_count": 2,
      "outputs": [
        {
          "output_type": "stream",
          "text": [
            "학습셋 이미지 수 : 60000 개\n",
            "테스트셋 이미지 수 : 10000 개\n"
          ],
          "name": "stdout"
        },
        {
          "output_type": "display_data",
          "data": {
            "image/png": "[encoded data removed]",
            "text/plain": [
              "<Figure size 432x288 with 1 Axes>"
            ]
          },
          "metadata": {
            "tags": [],
            "needs_background": "light"
          }
        }
      ]
    },
    {
      "cell_type": "code",
      "metadata": {
        "id": "W6BELGP-7u2x",
        "colab": {
          "base_uri": "https://localhost:8080/"
        },
        "outputId": "65414ad5-cd0e-4833-a731-901b29c064db"
      },
      "source": [
        "# 코드로 확인\n",
        "X_train.shape, Y_class_train.shape"
      ],
      "execution_count": 3,
      "outputs": [
        {
          "output_type": "execute_result",
          "data": {
            "text/plain": [
              "((60000, 28, 28), (60000,))"
            ]
          },
          "metadata": {
            "tags": []
          },
          "execution_count": 3
        }
      ]
    },
    {
      "cell_type": "code",
      "metadata": {
        "id": "mBRiWsZk7u22",
        "colab": {
          "base_uri": "https://localhost:8080/"
        },
        "outputId": "1663da29-9873-48a3-a39b-ba288bcb50af"
      },
      "source": [
        "# 차원 변환 과정\n",
        "X_train = X_train.reshape(X_train.shape[0], 784).astype('float64') / 255\n",
        "X_test  = X_test.reshape(X_test.shape[0], 784).astype('float64')  / 255\n",
        "\n",
        "# 바이너리화 과정\n",
        "Y_train = np_utils.to_categorical(Y_class_train, 10)\n",
        "Y_test = np_utils.to_categorical(Y_class_test, 10)\n",
        "\n",
        "# X_train[0], Y_train[0]\n",
        "X_train.shape, Y_train.shape"
      ],
      "execution_count": 4,
      "outputs": [
        {
          "output_type": "execute_result",
          "data": {
            "text/plain": [
              "((60000, 784), (60000, 10))"
            ]
          },
          "metadata": {
            "tags": []
          },
          "execution_count": 4
        }
      ]
    },
    {
      "cell_type": "code",
      "metadata": {
        "id": "rtr3UalS7u28",
        "colab": {
          "base_uri": "https://localhost:8080/",
          "height": 1000
        },
        "outputId": "5b38f87b-f5d3-42b7-c6f9-55ff60810a08"
      },
      "source": [
        "# 모델 프레임 설정\n",
        "model = Sequential()\n",
        "model.add(Dense(512, input_dim=784, activation='relu'))\n",
        "model.add(Dense(10, activation='softmax'))\n",
        "\n",
        "# 모델 실행 환경 설정\n",
        "model.compile(loss='categorical_crossentropy',\n",
        "              optimizer='adam',\n",
        "              metrics=['accuracy'])\n",
        "\n",
        "# 모델 최적화 설정\n",
        "MODEL_DIR = './mnist_model/'\n",
        "if not os.path.exists(MODEL_DIR):\n",
        "    os.mkdir(MODEL_DIR)\n",
        "\n",
        "modelpath=\"./mnist_model/{epoch:02d}-{val_loss:.4f}.hdf5\"\n",
        "checkpointer = ModelCheckpoint(filepath=modelpath, monitor='val_loss', verbose=1, save_best_only=True)\n",
        "early_stopping_callback = EarlyStopping(monitor='val_loss', patience=10)\n",
        "\n",
        "# 모델의 실행\n",
        "history = model.fit(X_train, Y_train, validation_data=(X_test, Y_test), \n",
        "                    epochs=30, batch_size=200, verbose=0, \n",
        "                    callbacks=[early_stopping_callback, checkpointer])\n",
        "\n",
        "# 테스트 정확도 출력\n",
        "print(\"\\n Test Accuracy: %.4f\" % (model.evaluate(X_test, Y_test)[1]))\n",
        "\n",
        "# 학습 및 테스트 셋의 오차\n",
        "y_vloss = history.history['val_loss']\n",
        "y_loss = history.history['loss']\n",
        "\n",
        "# 그래프로 표현\n",
        "x_len = np.arange(len(y_loss))\n",
        "plt.plot(x_len, y_vloss, marker='.', c=\"red\", label='Testset_loss')\n",
        "plt.plot(x_len, y_loss, marker='.', c=\"blue\", label='Trainset_loss')\n",
        "\n",
        "# 그래프에 그리드를 주고 레이블을 표시\n",
        "plt.legend(loc='upper right')\n",
        "# plt.axis([0, 20, 0, 0.35])\n",
        "plt.grid()\n",
        "plt.xlabel('epoch')\n",
        "plt.ylabel('loss')\n",
        "plt.show()\n"
      ],
      "execution_count": 5,
      "outputs": [
        {
          "output_type": "stream",
          "text": [
            "\n",
            "Epoch 00001: val_loss improved from inf to 0.15022, saving model to ./mnist_model/01-0.1502.hdf5\n",
            "\n",
            "Epoch 00002: val_loss improved from 0.15022 to 0.10824, saving model to ./mnist_model/02-0.1082.hdf5\n",
            "\n",
            "Epoch 00003: val_loss improved from 0.10824 to 0.08597, saving model to ./mnist_model/03-0.0860.hdf5\n",
            "\n",
            "Epoch 00004: val_loss improved from 0.08597 to 0.07698, saving model to ./mnist_model/04-0.0770.hdf5\n",
            "\n",
            "Epoch 00005: val_loss improved from 0.07698 to 0.07180, saving model to ./mnist_model/05-0.0718.hdf5\n",
            "\n",
            "Epoch 00006: val_loss did not improve from 0.07180\n",
            "\n",
            "Epoch 00007: val_loss improved from 0.07180 to 0.06158, saving model to ./mnist_model/07-0.0616.hdf5\n",
            "\n",
            "Epoch 00008: val_loss improved from 0.06158 to 0.05877, saving model to ./mnist_model/08-0.0588.hdf5\n",
            "\n",
            "Epoch 00009: val_loss did not improve from 0.05877\n",
            "\n",
            "Epoch 00010: val_loss did not improve from 0.05877\n",
            "\n",
            "Epoch 00011: val_loss improved from 0.05877 to 0.05730, saving model to ./mnist_model/11-0.0573.hdf5\n",
            "\n",
            "Epoch 00012: val_loss did not improve from 0.05730\n",
            "\n",
            "Epoch 00013: val_loss did not improve from 0.05730\n",
            "\n",
            "Epoch 00014: val_loss did not improve from 0.05730\n",
            "\n",
            "Epoch 00015: val_loss did not improve from 0.05730\n",
            "\n",
            "Epoch 00016: val_loss did not improve from 0.05730\n",
            "\n",
            "Epoch 00017: val_loss did not improve from 0.05730\n",
            "\n",
            "Epoch 00018: val_loss did not improve from 0.05730\n",
            "\n",
            "Epoch 00019: val_loss did not improve from 0.05730\n",
            "\n",
            "Epoch 00020: val_loss did not improve from 0.05730\n",
            "\n",
            "Epoch 00021: val_loss did not improve from 0.05730\n",
            "313/313 [==============================] - 1s 2ms/step - loss: 0.0662 - accuracy: 0.9822\n",
            "\n",
            " Test Accuracy: 0.9822\n"
          ],
          "name": "stdout"
        },
        {
          "output_type": "display_data",
          "data": {
            "image/png": "[encoded data removed]",
            "text/plain": [
              "<Figure size 432x288 with 1 Axes>"
            ]
          },
          "metadata": {
            "tags": [],
            "needs_background": "light"
          }
        }
      ]
    },
    {
      "cell_type": "markdown",
      "metadata": {
        "id": "j0Nxgr067u3E"
      },
      "source": [
        "#### Using CNN model"
      ]
    },
    {
      "cell_type": "code",
      "metadata": {
        "id": "juaqam0d7u3H"
      },
      "source": [
        "from keras.datasets import mnist\n",
        "from keras.utils import np_utils\n",
        "from keras.models import Sequential\n",
        "from keras.layers import Dense, Dropout, Flatten, Conv2D, MaxPooling2D\n",
        "from keras.callbacks import ModelCheckpoint,EarlyStopping\n",
        "\n",
        "(X_train, Y_train), (X_test, Y_test) = mnist.load_data()\n",
        "X_train = X_train.reshape(X_train.shape[0], 28, 28, 1).astype('float32') / 255\n",
        "X_test = X_test.reshape(X_test.shape[0], 28, 28, 1).astype('float32') / 255\n",
        "Y_train = np_utils.to_categorical(Y_train)\n",
        "Y_test = np_utils.to_categorical(Y_test)"
      ],
      "execution_count": 6,
      "outputs": []
    },
    {
      "cell_type": "code",
      "metadata": {
        "id": "3QCxLkCO7u3O",
        "colab": {
          "base_uri": "https://localhost:8080/"
        },
        "outputId": "d6c4a642-d151-41c4-c81f-daddb777f103"
      },
      "source": [
        "X_train.shape, Y_train.shape"
      ],
      "execution_count": 7,
      "outputs": [
        {
          "output_type": "execute_result",
          "data": {
            "text/plain": [
              "((60000, 28, 28, 1), (60000, 10))"
            ]
          },
          "metadata": {
            "tags": []
          },
          "execution_count": 7
        }
      ]
    },
    {
      "cell_type": "code",
      "metadata": {
        "id": "4qpAVjKJ7u3U",
        "colab": {
          "base_uri": "https://localhost:8080/"
        },
        "outputId": "d3863cec-0f10-4036-d707-9be89a6492fb"
      },
      "source": [
        "# 컨볼루션 신경망의 설정\n",
        "model = Sequential()\n",
        "model.add(Conv2D(32, kernel_size=(3, 3), input_shape=(28, 28, 1), activation='relu'))\n",
        "model.add(Conv2D(64, (3, 3), activation='relu'))\n",
        "model.add(MaxPooling2D(pool_size=2))\n",
        "model.add(Dropout(0.25))\n",
        "model.add(Flatten())\n",
        "model.add(Dense(128,  activation='relu'))\n",
        "model.add(Dropout(0.5))\n",
        "model.add(Dense(10, activation='softmax'))\n",
        "model.summary()\n"
      ],
      "execution_count": 8,
      "outputs": [
        {
          "output_type": "stream",
          "text": [
            "Model: \"sequential_1\"\n",
            "_________________________________________________________________\n",
            "Layer (type)                 Output Shape              Param #   \n",
            "=================================================================\n",
            "conv2d (Conv2D)              (None, 26, 26, 32)        320       \n",
            "_________________________________________________________________\n",
            "conv2d_1 (Conv2D)            (None, 24, 24, 64)        18496     \n",
            "_________________________________________________________________\n",
            "max_pooling2d (MaxPooling2D) (None, 12, 12, 64)        0         \n",
            "_________________________________________________________________\n",
            "dropout (Dropout)            (None, 12, 12, 64)        0         \n",
            "_________________________________________________________________\n",
            "flatten (Flatten)            (None, 9216)              0         \n",
            "_________________________________________________________________\n",
            "dense_2 (Dense)              (None, 128)               1179776   \n",
            "_________________________________________________________________\n",
            "dropout_1 (Dropout)          (None, 128)               0         \n",
            "_________________________________________________________________\n",
            "dense_3 (Dense)              (None, 10)                1290      \n",
            "=================================================================\n",
            "Total params: 1,199,882\n",
            "Trainable params: 1,199,882\n",
            "Non-trainable params: 0\n",
            "_________________________________________________________________\n"
          ],
          "name": "stdout"
        }
      ]
    },
    {
      "cell_type": "code",
      "metadata": {
        "id": "PgrDk1QIAaTo"
      },
      "source": [
        "import os\n",
        "model.compile(loss='categorical_crossentropy',\n",
        "              optimizer='adam',\n",
        "              metrics=['accuracy'])\n",
        "\n",
        "# 모델 최적화 설정\n",
        "MODEL_DIR = './mnist_cnn_model/'\n",
        "if not os.path.exists(MODEL_DIR):\n",
        "    os.mkdir(MODEL_DIR)\n",
        "\n",
        "modelpath=\"./mnist_cnn_model/{epoch:02d}-{val_loss:.4f}.hdf5\"\n",
        "checkpointer = ModelCheckpoint(filepath=modelpath, monitor='val_loss', verbose=1, save_best_only=True)\n",
        "early_stopping_callback = EarlyStopping(monitor='val_loss', patience=10)"
      ],
      "execution_count": 9,
      "outputs": []
    },
    {
      "cell_type": "code",
      "metadata": {
        "id": "1HaP9ZWd7u3Y",
        "colab": {
          "base_uri": "https://localhost:8080/"
        },
        "outputId": "a8faaa59-2e17-44d8-aaf9-782ab254a2ed"
      },
      "source": [
        "# 모델의 실행\n",
        "history = model.fit(X_train, Y_train, validation_data=(X_test, Y_test), \n",
        "                    epochs=30, batch_size=200, verbose=1, \n",
        "                    callbacks=[early_stopping_callback,checkpointer])\n",
        "\n",
        "# 테스트 정확도 출력\n",
        "print(\"\\n Test Accuracy: %.4f\" % (model.evaluate(X_test, Y_test)[1]))"
      ],
      "execution_count": 10,
      "outputs": [
        {
          "output_type": "stream",
          "text": [
            "Epoch 1/30\n",
            "295/300 [============================>.] - ETA: 0s - loss: 0.2752 - accuracy: 0.9157\n",
            "Epoch 00001: val_loss improved from inf to 0.05238, saving model to ./mnist_cnn_model/01-0.0524.hdf5\n",
            "300/300 [==============================] - 3s 11ms/step - loss: 0.2724 - accuracy: 0.9165 - val_loss: 0.0524 - val_accuracy: 0.9826\n",
            "Epoch 2/30\n",
            "300/300 [==============================] - ETA: 0s - loss: 0.0899 - accuracy: 0.9732\n",
            "Epoch 00002: val_loss improved from 0.05238 to 0.04016, saving model to ./mnist_cnn_model/02-0.0402.hdf5\n",
            "300/300 [==============================] - 3s 11ms/step - loss: 0.0899 - accuracy: 0.9732 - val_loss: 0.0402 - val_accuracy: 0.9870\n",
            "Epoch 3/30\n",
            "297/300 [============================>.] - ETA: 0s - loss: 0.0662 - accuracy: 0.9796\n",
            "Epoch 00003: val_loss improved from 0.04016 to 0.03095, saving model to ./mnist_cnn_model/03-0.0309.hdf5\n",
            "300/300 [==============================] - 3s 11ms/step - loss: 0.0665 - accuracy: 0.9796 - val_loss: 0.0309 - val_accuracy: 0.9893\n",
            "Epoch 4/30\n",
            "296/300 [============================>.] - ETA: 0s - loss: 0.0513 - accuracy: 0.9841\n",
            "Epoch 00004: val_loss did not improve from 0.03095\n",
            "300/300 [==============================] - 3s 10ms/step - loss: 0.0514 - accuracy: 0.9841 - val_loss: 0.0327 - val_accuracy: 0.9889\n",
            "Epoch 5/30\n",
            "300/300 [==============================] - ETA: 0s - loss: 0.0454 - accuracy: 0.9854\n",
            "Epoch 00005: val_loss improved from 0.03095 to 0.03014, saving model to ./mnist_cnn_model/05-0.0301.hdf5\n",
            "300/300 [==============================] - 3s 11ms/step - loss: 0.0454 - accuracy: 0.9854 - val_loss: 0.0301 - val_accuracy: 0.9897\n",
            "Epoch 6/30\n",
            "298/300 [============================>.] - ETA: 0s - loss: 0.0391 - accuracy: 0.9877\n",
            "Epoch 00006: val_loss improved from 0.03014 to 0.02839, saving model to ./mnist_cnn_model/06-0.0284.hdf5\n",
            "300/300 [==============================] - 3s 11ms/step - loss: 0.0391 - accuracy: 0.9877 - val_loss: 0.0284 - val_accuracy: 0.9908\n",
            "Epoch 7/30\n",
            "296/300 [============================>.] - ETA: 0s - loss: 0.0352 - accuracy: 0.9890\n",
            "Epoch 00007: val_loss improved from 0.02839 to 0.02709, saving model to ./mnist_cnn_model/07-0.0271.hdf5\n",
            "300/300 [==============================] - 3s 11ms/step - loss: 0.0353 - accuracy: 0.9890 - val_loss: 0.0271 - val_accuracy: 0.9913\n",
            "Epoch 8/30\n",
            "299/300 [============================>.] - ETA: 0s - loss: 0.0297 - accuracy: 0.9903\n",
            "Epoch 00008: val_loss improved from 0.02709 to 0.02568, saving model to ./mnist_cnn_model/08-0.0257.hdf5\n",
            "300/300 [==============================] - 3s 11ms/step - loss: 0.0296 - accuracy: 0.9903 - val_loss: 0.0257 - val_accuracy: 0.9917\n",
            "Epoch 9/30\n",
            "299/300 [============================>.] - ETA: 0s - loss: 0.0281 - accuracy: 0.9909\n",
            "Epoch 00009: val_loss did not improve from 0.02568\n",
            "300/300 [==============================] - 3s 11ms/step - loss: 0.0281 - accuracy: 0.9909 - val_loss: 0.0272 - val_accuracy: 0.9920\n",
            "Epoch 10/30\n",
            "297/300 [============================>.] - ETA: 0s - loss: 0.0258 - accuracy: 0.9914\n",
            "Epoch 00010: val_loss did not improve from 0.02568\n",
            "300/300 [==============================] - 3s 10ms/step - loss: 0.0257 - accuracy: 0.9915 - val_loss: 0.0267 - val_accuracy: 0.9924\n",
            "Epoch 11/30\n",
            "300/300 [==============================] - ETA: 0s - loss: 0.0236 - accuracy: 0.9919\n",
            "Epoch 00011: val_loss did not improve from 0.02568\n",
            "300/300 [==============================] - 3s 10ms/step - loss: 0.0236 - accuracy: 0.9919 - val_loss: 0.0270 - val_accuracy: 0.9917\n",
            "Epoch 12/30\n",
            "299/300 [============================>.] - ETA: 0s - loss: 0.0214 - accuracy: 0.9926\n",
            "Epoch 00012: val_loss did not improve from 0.02568\n",
            "300/300 [==============================] - 3s 10ms/step - loss: 0.0214 - accuracy: 0.9926 - val_loss: 0.0282 - val_accuracy: 0.9923\n",
            "Epoch 13/30\n",
            "298/300 [============================>.] - ETA: 0s - loss: 0.0197 - accuracy: 0.9933\n",
            "Epoch 00013: val_loss did not improve from 0.02568\n",
            "300/300 [==============================] - 3s 10ms/step - loss: 0.0198 - accuracy: 0.9932 - val_loss: 0.0292 - val_accuracy: 0.9918\n",
            "Epoch 14/30\n",
            "300/300 [==============================] - ETA: 0s - loss: 0.0186 - accuracy: 0.9942\n",
            "Epoch 00014: val_loss did not improve from 0.02568\n",
            "300/300 [==============================] - 3s 10ms/step - loss: 0.0186 - accuracy: 0.9942 - val_loss: 0.0312 - val_accuracy: 0.9916\n",
            "Epoch 15/30\n",
            "297/300 [============================>.] - ETA: 0s - loss: 0.0188 - accuracy: 0.9938\n",
            "Epoch 00015: val_loss did not improve from 0.02568\n",
            "300/300 [==============================] - 3s 10ms/step - loss: 0.0188 - accuracy: 0.9938 - val_loss: 0.0266 - val_accuracy: 0.9923\n",
            "Epoch 16/30\n",
            "297/300 [============================>.] - ETA: 0s - loss: 0.0186 - accuracy: 0.9940\n",
            "Epoch 00016: val_loss did not improve from 0.02568\n",
            "300/300 [==============================] - 3s 10ms/step - loss: 0.0185 - accuracy: 0.9940 - val_loss: 0.0261 - val_accuracy: 0.9931\n",
            "Epoch 17/30\n",
            "297/300 [============================>.] - ETA: 0s - loss: 0.0162 - accuracy: 0.9946\n",
            "Epoch 00017: val_loss did not improve from 0.02568\n",
            "300/300 [==============================] - 3s 10ms/step - loss: 0.0165 - accuracy: 0.9945 - val_loss: 0.0286 - val_accuracy: 0.9918\n",
            "Epoch 18/30\n",
            "297/300 [============================>.] - ETA: 0s - loss: 0.0150 - accuracy: 0.9953\n",
            "Epoch 00018: val_loss did not improve from 0.02568\n",
            "300/300 [==============================] - 3s 10ms/step - loss: 0.0149 - accuracy: 0.9953 - val_loss: 0.0292 - val_accuracy: 0.9929\n",
            "313/313 [==============================] - 1s 3ms/step - loss: 0.0292 - accuracy: 0.9929\n",
            "\n",
            " Test Accuracy: 0.9929\n"
          ],
          "name": "stdout"
        }
      ]
    },
    {
      "cell_type": "code",
      "metadata": {
        "id": "iHudnYaS7u3d",
        "colab": {
          "base_uri": "https://localhost:8080/",
          "height": 279
        },
        "outputId": "b4a69f12-240d-4bbe-d43a-b25517f2dfc7"
      },
      "source": [
        "import numpy as np\n",
        "# 오차\n",
        "y_vloss = history.history['val_loss']\n",
        "y_loss = history.history['loss']\n",
        "\n",
        "# 그래프로 표현\n",
        "x_len = np.arange(len(y_loss))\n",
        "plt.plot(x_len, y_vloss, marker='.', c=\"red\", label='Testset_loss')\n",
        "plt.plot(x_len, y_loss, marker='.', c=\"blue\", label='Trainset_loss')\n",
        "\n",
        "# 그래프에 그리드를 주고 레이블을 표시\n",
        "plt.legend(loc='upper right')\n",
        "plt.grid()\n",
        "plt.xlabel('epoch')\n",
        "plt.ylabel('loss')\n",
        "plt.show()"
      ],
      "execution_count": 11,
      "outputs": [
        {
          "output_type": "display_data",
          "data": {
            "image/png": "[encoded data removed]",
            "text/plain": [
              "<Figure size 432x288 with 1 Axes>"
            ]
          },
          "metadata": {
            "tags": [],
            "needs_background": "light"
          }
        }
      ]
    },
    {
      "cell_type": "markdown",
      "metadata": {
        "id": "1VASRZ7K7u3h"
      },
      "source": [
        "## 2. RNN with Reuters dataset"
      ]
    },
    {
      "cell_type": "markdown",
      "metadata": {
        "id": "DnzleueBJLAN"
      },
      "source": [
        "# for exercise\n",
        "- v = Embedding(20001 ,256, input_length=500)\n",
        "  - input_dim: Integer. Size of the vocabulary, i.e. maximum integer index + 1.\n",
        "  - output_dim: Integer. Dimension of the dense embedding.\n",
        "  - input_length: Length of input sequences, when it is constant. This argument is required if you are going to connect Flatten then Dense layers upstream (without it, the shape of the dense outputs cannot be computed).\n",
        "- shape:\n",
        "  - Input shape: 2D tensor with shape: (batch_size, input_length)\n",
        "  - Output shape: 3D tensor with shape: (batch_size, input_length, output_dim).\n",
        "\n",
        "- 임베딩 층은 다음과 같은 세 개의 인자를 받는다.\n",
        "  - 첫번째 인자 : 텍스트 데이터의 전체 단어 집합의 크기다. 만약 갖고 있는 데이터의 단어들이 인코딩이 0부터 20,000까지 되었다면 단어 집합의 크기는 20,001이 되어야 한다. (인덱스에 주의)\n",
        "  - 두번째 인자 : 임베딩이 되고 난 후의 단어의 차원이다. 만약, 이 값을 256으로 준다면 모든 단어의 차원이 256이 된다.\n",
        "  - input_length : 입력 시퀀스의 길이다. 만약 갖고 있는 각 데이터의 길이가 500개의 단어로 구성되어있다면 이 값은 500이 된다.\n",
        "- Turns positive integers (indexes) into dense vectors of fixed size.\n",
        "e.g. [[4], [20]] -> [[0.25, 0.1], [0.6, -0.2]]"
      ]
    },
    {
      "cell_type": "code",
      "metadata": {
        "id": "o4jhuqwoKL0a"
      },
      "source": [
        "# example\n",
        "from keras.preprocessing.text import Tokenizer\n",
        "from keras.preprocessing.sequence import pad_sequences\n",
        "sentence = ['멋있어 최고야 짱이다 감탄이다 우와', '헛소리 지껄이네', '닥쳐 자식아', \n",
        "            '우와 대단하다', '우수한 성적', '형편없다', '최상의 퀄리티 멋있어']\n",
        "y_train = [1, 0, 0, 1, 1, 0, 1]    # positive(1) or negative(0)\n",
        "t = Tokenizer()\n",
        "t.fit_on_texts(sentence)"
      ],
      "execution_count": 12,
      "outputs": []
    },
    {
      "cell_type": "code",
      "metadata": {
        "id": "OedTDiDkKzyR",
        "colab": {
          "base_uri": "https://localhost:8080/"
        },
        "outputId": "eea88232-4542-48aa-eafd-c6ee9ee74a2e"
      },
      "source": [
        "t.word_index"
      ],
      "execution_count": 13,
      "outputs": [
        {
          "output_type": "execute_result",
          "data": {
            "text/plain": [
              "{'감탄이다': 5,\n",
              " '닥쳐': 8,\n",
              " '대단하다': 10,\n",
              " '멋있어': 1,\n",
              " '성적': 12,\n",
              " '우수한': 11,\n",
              " '우와': 2,\n",
              " '자식아': 9,\n",
              " '지껄이네': 7,\n",
              " '짱이다': 4,\n",
              " '최고야': 3,\n",
              " '최상의': 14,\n",
              " '퀄리티': 15,\n",
              " '헛소리': 6,\n",
              " '형편없다': 13}"
            ]
          },
          "metadata": {
            "tags": []
          },
          "execution_count": 13
        }
      ]
    },
    {
      "cell_type": "code",
      "metadata": {
        "id": "TzkSwvUdLVwD",
        "colab": {
          "base_uri": "https://localhost:8080/"
        },
        "outputId": "7b337425-e05a-41b1-ed40-5c22201c0c24"
      },
      "source": [
        "t.texts_to_sequences(sentence)"
      ],
      "execution_count": 14,
      "outputs": [
        {
          "output_type": "execute_result",
          "data": {
            "text/plain": [
              "[[1, 3, 4, 5, 2], [6, 7], [8, 9], [2, 10], [11, 12], [13], [14, 15, 1]]"
            ]
          },
          "metadata": {
            "tags": []
          },
          "execution_count": 14
        }
      ]
    },
    {
      "cell_type": "code",
      "metadata": {
        "id": "CwVq7Z5JKx3V",
        "colab": {
          "base_uri": "https://localhost:8080/"
        },
        "outputId": "c500d819-90aa-471e-e55a-136e61418799"
      },
      "source": [
        "vocab_size = len(t.word_index)+1\n",
        "x_encoded = t.texts_to_sequences(sentence)\n",
        "max_length = max(len(i) for i in x_encoded)\n",
        "print(max_length)\n",
        "x_padded = pad_sequences(x_encoded, maxlen=max_length, padding='post')\n",
        "print(x_padded)"
      ],
      "execution_count": 15,
      "outputs": [
        {
          "output_type": "stream",
          "text": [
            "5\n",
            "[[ 1  3  4  5  2]\n",
            " [ 6  7  0  0  0]\n",
            " [ 8  9  0  0  0]\n",
            " [ 2 10  0  0  0]\n",
            " [11 12  0  0  0]\n",
            " [13  0  0  0  0]\n",
            " [14 15  1  0  0]]\n"
          ],
          "name": "stdout"
        }
      ]
    },
    {
      "cell_type": "code",
      "metadata": {
        "id": "EVlK3_E2MUHW",
        "colab": {
          "base_uri": "https://localhost:8080/"
        },
        "outputId": "1c6f9817-f5b5-4fa2-b1d0-febaf6d16821"
      },
      "source": [
        "# embedding(): input shape : (input_dim, output_dim, [input_length])\n",
        "#                           input_length: Length of input sequences, when it is constant. This argument is required \n",
        "#                           if you are going to connect Flatten then Dense layers upstream (without it, the shape of \n",
        "#                           the dense outputs cannot be computed).\n",
        "#              output shape : (batch_size, input_length, output_dim)\n",
        "\n",
        "\n",
        "model = Sequential()\n",
        "model.add(Embedding(vocab_size, 4, input_length=max_length))\n",
        "# 모든 임베딩 벡터는 4차원을 가지게 됨.\n",
        "model.add(Flatten()) # Dense의 입력으로 넣기 위함임.\n",
        "model.add(Dense(1, activation='sigmoid'))\n",
        "model.summary()"
      ],
      "execution_count": 16,
      "outputs": [
        {
          "output_type": "stream",
          "text": [
            "Model: \"sequential_2\"\n",
            "_________________________________________________________________\n",
            "Layer (type)                 Output Shape              Param #   \n",
            "=================================================================\n",
            "embedding (Embedding)        (None, 5, 4)              64        \n",
            "_________________________________________________________________\n",
            "flatten_1 (Flatten)          (None, 20)                0         \n",
            "_________________________________________________________________\n",
            "dense_4 (Dense)              (None, 1)                 21        \n",
            "=================================================================\n",
            "Total params: 85\n",
            "Trainable params: 85\n",
            "Non-trainable params: 0\n",
            "_________________________________________________________________\n"
          ],
          "name": "stdout"
        }
      ]
    },
    {
      "cell_type": "code",
      "metadata": {
        "id": "afbW3BRC7u3i"
      },
      "source": [
        "# 로이터 뉴스 데이터셋 불러오기\n",
        "from keras.datasets import reuters\n",
        "from keras.models import Sequential\n",
        "from keras.layers import Dense, LSTM, Embedding\n",
        "from keras import preprocessing\n",
        "from keras.utils import np_utils\n",
        "\n",
        "import numpy as np\n",
        "import tensorflow as tf\n",
        "import matplotlib.pyplot as plt\n"
      ],
      "execution_count": 17,
      "outputs": []
    },
    {
      "cell_type": "code",
      "metadata": {
        "id": "EOErF-0eCT_8",
        "colab": {
          "base_uri": "https://localhost:8080/"
        },
        "outputId": "78c10178-159d-4397-b5d5-f697e206efb5"
      },
      "source": [
        "# 불러온 데이터를 학습셋, 테스트셋으로 나누기\n",
        "(X_train, Y_train), (X_test, Y_test) = reuters.load_data(num_words=1000, test_split=0.2)\n",
        "\n",
        "# 데이터 확인하기\n",
        "\n",
        "category = np.max(Y_train) + 1\n",
        "print(category, '카테고리')\n",
        "print(len(X_train), '학습용 뉴스 기사')\n",
        "print(len(X_test), '테스트용 뉴스 기사')\n",
        "print(X_train[0])\n",
        "[len(X_train[i]) for i in range(10)]"
      ],
      "execution_count": 18,
      "outputs": [
        {
          "output_type": "stream",
          "text": [
            "46 카테고리\n",
            "8982 학습용 뉴스 기사\n",
            "2246 테스트용 뉴스 기사\n",
            "[1, 2, 2, 8, 43, 10, 447, 5, 25, 207, 270, 5, 2, 111, 16, 369, 186, 90, 67, 7, 89, 5, 19, 102, 6, 19, 124, 15, 90, 67, 84, 22, 482, 26, 7, 48, 4, 49, 8, 864, 39, 209, 154, 6, 151, 6, 83, 11, 15, 22, 155, 11, 15, 7, 48, 9, 2, 2, 504, 6, 258, 6, 272, 11, 15, 22, 134, 44, 11, 15, 16, 8, 197, 2, 90, 67, 52, 29, 209, 30, 32, 132, 6, 109, 15, 17, 12]\n"
          ],
          "name": "stdout"
        },
        {
          "output_type": "execute_result",
          "data": {
            "text/plain": [
              "[87, 56, 139, 224, 101, 116, 100, 100, 82, 106]"
            ]
          },
          "metadata": {
            "tags": []
          },
          "execution_count": 18
        }
      ]
    },
    {
      "cell_type": "markdown",
      "metadata": {
        "id": "uoY_MDheCyDe"
      },
      "source": [
        "- 딥러닝은 단어 대신 숫자를 데이터로 요구함. 역서는 해당 단어가 데이터 안에서 몇 번이나 사용되었는지\n",
        "- 빈도에 따라 번호를 붙임.  -> tokenizer 함수 필요\n",
        "- keras 는 이미 이 작업이 수행된 상태임.\n",
        "- num_words = 1000: 빈도가 1~1000 에 해당하는 단어만 선택해서 불러옴\n",
        "- 각 기사의 단어 수가 각각 다르므로 단어의 수를 맞춰 주어야 함. (전처리 함수 sequence 사용) : 100보다 크면 100개만, 적으면 0 으로 패딩."
      ]
    },
    {
      "cell_type": "code",
      "metadata": {
        "id": "HfYctliVCEKV",
        "colab": {
          "base_uri": "https://localhost:8080/"
        },
        "outputId": "2e56b279-b80e-47ae-a724-7d8a212687b1"
      },
      "source": [
        "# \n",
        "# 데이터 전처리\n",
        "x_train = preprocessing.sequence.pad_sequences(X_train, maxlen=100)\n",
        "x_test = preprocessing.sequence.pad_sequences(X_test, maxlen=100)\n",
        "y_train = np_utils.to_categorical(Y_train)\n",
        "y_test = np_utils.to_categorical(Y_test)\n",
        "print(x_train.shape, y_train.shape)\n",
        "[len(x_train[i]) for i in range(10)]"
      ],
      "execution_count": 19,
      "outputs": [
        {
          "output_type": "stream",
          "text": [
            "(8982, 100) (8982, 46)\n"
          ],
          "name": "stdout"
        },
        {
          "output_type": "execute_result",
          "data": {
            "text/plain": [
              "[100, 100, 100, 100, 100, 100, 100, 100, 100, 100]"
            ]
          },
          "metadata": {
            "tags": []
          },
          "execution_count": 19
        }
      ]
    },
    {
      "cell_type": "code",
      "metadata": {
        "id": "u2Q6xrlyFSUK",
        "colab": {
          "base_uri": "https://localhost:8080/",
          "height": 1000
        },
        "outputId": "1433f5e5-2c58-444f-999f-80d1754da9c6"
      },
      "source": [
        "# 모델의 설정\n",
        "# Embedding(불러온 단어의 총갯수, 기사당 단어수) -> 단어벡터 생성\n",
        "model = Sequential()\n",
        "model.add(Embedding(1000, 100))\n",
        "model.add(LSTM(100, activation='tanh'))\n",
        "model.add(Dense(46, activation='softmax'))\n",
        "\n",
        "# 모델의 컴파일\n",
        "model.compile(loss='categorical_crossentropy',\n",
        "            optimizer='adam',\n",
        "            metrics=['accuracy'])\n",
        "\n",
        "# 모델의 실행\n",
        "history = model.fit(x_train, y_train, batch_size=100, epochs=20, validation_data=(x_test, y_test))\n",
        "\n",
        "# 테스트 정확도 출력\n",
        "print(\"\\n Test Accuracy: %.4f\" % (model.evaluate(x_test, y_test)[1]))\n",
        "\n",
        "\n",
        "# 테스트 셋의 오차\n",
        "y_vloss = history.history['val_loss']\n",
        "\n",
        "# 학습셋의 오차\n",
        "y_loss = history.history['loss']\n",
        "\n",
        "# 그래프로 표현\n",
        "x_len = np.arange(len(y_loss))\n",
        "plt.plot(x_len, y_vloss, marker='.', c=\"red\", label='Testset_loss')\n",
        "plt.plot(x_len, y_loss, marker='.', c=\"blue\", label='Trainset_loss')\n",
        "\n",
        "# 그래프에 그리드를 주고 레이블을 표시\n",
        "plt.legend(loc='upper right')\n",
        "plt.grid()\n",
        "plt.xlabel('epoch')\n",
        "plt.ylabel('loss')\n",
        "plt.show()"
      ],
      "execution_count": 21,
      "outputs": [
        {
          "output_type": "stream",
          "text": [
            "Epoch 1/20\n",
            "90/90 [==============================] - 2s 18ms/step - loss: 2.6152 - accuracy: 0.3426 - val_loss: 2.4052 - val_accuracy: 0.3620\n",
            "Epoch 2/20\n",
            "90/90 [==============================] - 1s 12ms/step - loss: 2.1481 - accuracy: 0.4586 - val_loss: 2.0158 - val_accuracy: 0.5062\n",
            "Epoch 3/20\n",
            "90/90 [==============================] - 1s 14ms/step - loss: 1.8849 - accuracy: 0.5200 - val_loss: 1.8259 - val_accuracy: 0.5423\n",
            "Epoch 4/20\n",
            "90/90 [==============================] - 1s 12ms/step - loss: 1.8656 - accuracy: 0.5229 - val_loss: 1.7588 - val_accuracy: 0.5552\n",
            "Epoch 5/20\n",
            "90/90 [==============================] - 1s 12ms/step - loss: 1.7424 - accuracy: 0.5640 - val_loss: 1.7518 - val_accuracy: 0.5757\n",
            "Epoch 6/20\n",
            "90/90 [==============================] - 1s 12ms/step - loss: 1.6141 - accuracy: 0.5988 - val_loss: 1.6170 - val_accuracy: 0.6060\n",
            "Epoch 7/20\n",
            "90/90 [==============================] - 1s 12ms/step - loss: 1.5043 - accuracy: 0.6256 - val_loss: 1.5630 - val_accuracy: 0.6175\n",
            "Epoch 8/20\n",
            "90/90 [==============================] - 1s 12ms/step - loss: 1.4272 - accuracy: 0.6455 - val_loss: 1.4658 - val_accuracy: 0.6402\n",
            "Epoch 9/20\n",
            "90/90 [==============================] - 1s 12ms/step - loss: 1.3578 - accuracy: 0.6585 - val_loss: 1.4657 - val_accuracy: 0.6376\n",
            "Epoch 10/20\n",
            "90/90 [==============================] - 1s 12ms/step - loss: 1.2902 - accuracy: 0.6762 - val_loss: 1.3970 - val_accuracy: 0.6469\n",
            "Epoch 11/20\n",
            "90/90 [==============================] - 1s 12ms/step - loss: 1.2285 - accuracy: 0.6905 - val_loss: 1.3659 - val_accuracy: 0.6598\n",
            "Epoch 12/20\n",
            "90/90 [==============================] - 1s 12ms/step - loss: 1.1892 - accuracy: 0.6946 - val_loss: 1.3411 - val_accuracy: 0.6692\n",
            "Epoch 13/20\n",
            "90/90 [==============================] - 1s 12ms/step - loss: 1.1395 - accuracy: 0.7103 - val_loss: 1.3087 - val_accuracy: 0.6696\n",
            "Epoch 14/20\n",
            "90/90 [==============================] - 1s 12ms/step - loss: 1.0836 - accuracy: 0.7226 - val_loss: 1.2676 - val_accuracy: 0.6883\n",
            "Epoch 15/20\n",
            "90/90 [==============================] - 1s 12ms/step - loss: 1.0330 - accuracy: 0.7383 - val_loss: 1.2533 - val_accuracy: 0.6932\n",
            "Epoch 16/20\n",
            "90/90 [==============================] - 1s 12ms/step - loss: 0.9893 - accuracy: 0.7504 - val_loss: 1.2367 - val_accuracy: 0.6928\n",
            "Epoch 17/20\n",
            "90/90 [==============================] - 1s 12ms/step - loss: 0.9522 - accuracy: 0.7554 - val_loss: 1.2479 - val_accuracy: 0.6923\n",
            "Epoch 18/20\n",
            "90/90 [==============================] - 1s 12ms/step - loss: 0.9046 - accuracy: 0.7714 - val_loss: 1.2126 - val_accuracy: 0.7012\n",
            "Epoch 19/20\n",
            "90/90 [==============================] - 1s 12ms/step - loss: 0.8656 - accuracy: 0.7832 - val_loss: 1.2192 - val_accuracy: 0.7053\n",
            "Epoch 20/20\n",
            "90/90 [==============================] - 1s 12ms/step - loss: 0.8341 - accuracy: 0.7915 - val_loss: 1.1890 - val_accuracy: 0.7035\n",
            "71/71 [==============================] - 0s 4ms/step - loss: 1.1890 - accuracy: 0.7035\n",
            "\n",
            " Test Accuracy: 0.7035\n"
          ],
          "name": "stdout"
        },
        {
          "output_type": "display_data",
          "data": {
            "image/png": "[encoded data removed]",
            "text/plain": [
              "<Figure size 432x288 with 1 Axes>"
            ]
          },
          "metadata": {
            "tags": [],
            "needs_background": "light"
          }
        }
      ]
    },
    {
      "cell_type": "markdown",
      "metadata": {
        "id": "8dyNqg49YoEq"
      },
      "source": [
        "## 3. RNN with IMDB dataset"
      ]
    },
    {
      "cell_type": "code",
      "metadata": {
        "id": "HV8BdXUGYlnS"
      },
      "source": [
        "from keras.preprocessing import sequence\n",
        "from keras.models import Sequential\n",
        "from keras.layers import Dense, Dropout, Activation\n",
        "from keras.layers import Embedding\n",
        "\n",
        "from keras.layers import LSTM\n",
        "from keras.layers import Conv1D, MaxPooling1D\n",
        "from keras.datasets import imdb\n",
        "\n",
        "import numpy\n",
        "import tensorflow as tf\n",
        "import matplotlib.pyplot as plt\n"
      ],
      "execution_count": null,
      "outputs": []
    },
    {
      "cell_type": "code",
      "metadata": {
        "id": "V7Br5mx5Y2b2"
      },
      "source": [
        "# 학습셋, 테스트셋 지정하기\n",
        "(x_train, y_train), (x_test, y_test) = imdb.load_data(num_words=5000)\n",
        "\n",
        "# 데이터 전처리\n",
        "x_train = sequence.pad_sequences(x_train, maxlen=100)\n",
        "x_test = sequence.pad_sequences(x_test, maxlen=100)\n",
        "\n",
        "# 모델의 설정\n",
        "model = Sequential()\n",
        "model.add(Embedding(5000, 100))\n",
        "model.add(Dropout(0.5))\n",
        "model.add(Conv1D(64, 5, padding='valid', activation='relu',strides=1))\n",
        "model.add(MaxPooling1D(pool_size=4))\n",
        "model.add(LSTM(55))\n",
        "model.add(Dense(1))\n",
        "model.add(Activation('sigmoid'))\n",
        "model.summary()\n",
        "\n",
        "# 모델의 컴파일\n",
        "model.compile(loss='binary_crossentropy',\n",
        "              optimizer='adam',\n",
        "              metrics=['accuracy'])\n",
        "\n",
        "# 모델의 실행\n",
        "history = model.fit(x_train, y_train, batch_size=100, epochs=5, validation_data=(x_test, y_test))\n",
        "\n",
        "# 테스트 정확도 출력\n",
        "print(\"\\n Test Accuracy: %.4f\" % (model.evaluate(x_test, y_test)[1]))\n",
        "\n",
        "\n",
        "# 테스트 셋의 오차\n",
        "y_vloss = history.history['val_loss']\n",
        "\n",
        "# 학습셋의 오차\n",
        "y_loss = history.history['loss']\n",
        "\n",
        "# 그래프로 표현\n",
        "x_len = numpy.arange(len(y_loss))\n",
        "plt.plot(x_len, y_vloss, marker='.', c=\"red\", label='Testset_loss')\n",
        "plt.plot(x_len, y_loss, marker='.', c=\"blue\", label='Trainset_loss')\n",
        "\n",
        "# 그래프에 그리드를 주고 레이블을 표시\n",
        "plt.legend(loc='upper right')\n",
        "plt.grid()\n",
        "plt.xlabel('epoch')\n",
        "plt.ylabel('loss')\n",
        "plt.show()"
      ],
      "execution_count": null,
      "outputs": []
    },
    {
      "cell_type": "markdown",
      "metadata": {
        "id": "efJt0RS0BcG5"
      },
      "source": [
        "# Exercise (연습)"
      ]
    },
    {
      "cell_type": "code",
      "metadata": {
        "id": "PmLxCvzTBeUw"
      },
      "source": [
        "model = tf.keras.Sequential()\n",
        "model.add(tf.keras.layers.Embedding(1000, 64, input_length=10))\n",
        "# The model will take as input an integer matrix of size (batch,input_length), and \n",
        "# the largest integer (i.e. word index) in the input  \n",
        "# should be no larger than 999 (vocabulary size).  \n",
        "# Now model.output_shape is (None, 10, 64), where `None` is the batch  \n",
        "# dimension.  \n",
        "input_array = np.random.randint(1000, size=(100, 10))\n",
        "model.compile('rmsprop', 'mse')\n",
        "output_array = model.predict(input_array)\n",
        "print(output_array.shape)"
      ],
      "execution_count": null,
      "outputs": []
    }
  ]
}